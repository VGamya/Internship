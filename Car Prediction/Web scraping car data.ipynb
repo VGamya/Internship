{
 "cells": [
  {
   "cell_type": "code",
   "execution_count": 1,
   "metadata": {},
   "outputs": [],
   "source": [
    "import selenium\n",
    "import pandas as pd\n",
    "from selenium import webdriver \n",
    "\n",
    "import warnings\n",
    "warnings.filterwarnings('ignore')"
   ]
  },
  {
   "cell_type": "code",
   "execution_count": 2,
   "metadata": {},
   "outputs": [],
   "source": [
    "import time\n",
    "from bs4 import BeautifulSoup\n",
    "# Importing required Exceptions which needs to handled\n",
    "from selenium.common.exceptions import StaleElementReferenceException, NoSuchElementException\n",
    "\n",
    "#Importing requests\n",
    "import requests\n",
    "\n",
    "# importing regex\n",
    "import re"
   ]
  },
  {
   "cell_type": "code",
   "execution_count": 11,
   "metadata": {},
   "outputs": [],
   "source": [
    "driver1=webdriver.Chrome(r\"C:/Users/Gamya/Downloads/chromedriver_win32/chromedriver.exe\")"
   ]
  },
  {
   "cell_type": "code",
   "execution_count": 12,
   "metadata": {},
   "outputs": [],
   "source": [
    "url='https://www.cars24.com/buy-used-cars/'\n",
    "driver1.get(url)"
   ]
  },
  {
   "cell_type": "code",
   "execution_count": 13,
   "metadata": {},
   "outputs": [],
   "source": [
    "button=driver1.find_element_by_xpath('/html/body/div[1]/div[10]/div/div/div/div[2]/div[2]/button').click()\n",
    "button=driver1.find_element_by_xpath('/html/body/div[1]/div[10]/div/div/div/div[2]/ul/li[4]/h6').click()\n",
    "button=driver1.find_element_by_xpath('/html/body/div[1]/div[1]/header/div/div[2]/div/span').click()\n"
   ]
  },
  {
   "cell_type": "code",
   "execution_count": 14,
   "metadata": {},
   "outputs": [],
   "source": [
    "button=driver1.find_element_by_xpath('/html/body/div[1]/div[2]/div/div[2]/ul/li[6]/div/img').click()\n"
   ]
  },
  {
   "cell_type": "code",
   "execution_count": 7,
   "metadata": {},
   "outputs": [],
   "source": [
    "button=driver1.find_element_by_xpath('/html/body/div[1]/div[2]/div/div[2]/ul/li[6]/div[2]/div[1]/div[3]/ul/li[1]/div/span[2]').click()\n"
   ]
  },
  {
   "cell_type": "code",
   "execution_count": 101,
   "metadata": {},
   "outputs": [],
   "source": [
    "button=driver1.find_element_by_xpath('/html/body/div[1]/div[2]/div/div[2]/ul/li[6]/div[2]/div[2]/button/span').click()"
   ]
  },
  {
   "cell_type": "code",
   "execution_count": 15,
   "metadata": {},
   "outputs": [],
   "source": [
    "for _ in range(2000):\n",
    "    driver1.execute_script(\"window.scrollBy(0,600)\")"
   ]
  },
  {
   "cell_type": "code",
   "execution_count": 16,
   "metadata": {},
   "outputs": [
    {
     "data": {
      "text/plain": [
       "1181"
      ]
     },
     "execution_count": 16,
     "metadata": {},
     "output_type": "execute_result"
    }
   ],
   "source": [
    "MODEL = []\n",
    "Model = driver1.find_elements_by_xpath(\"//h2[@class='_3FpCg']\")\n",
    "Model\n",
    "for i in Model:\n",
    "    modelname = i.text\n",
    "    MODEL.append(modelname)\n",
    "len(MODEL)"
   ]
  },
  {
   "cell_type": "code",
   "execution_count": 17,
   "metadata": {},
   "outputs": [
    {
     "data": {
      "text/plain": [
       "1181"
      ]
     },
     "execution_count": 17,
     "metadata": {},
     "output_type": "execute_result"
    }
   ],
   "source": [
    "KM = []\n",
    "\n",
    "kilometer = driver1.find_elements_by_xpath(\"//ul[@class='bVR0c']\")\n",
    "kilometer\n",
    "\n",
    "for i in kilometer:\n",
    "    km_run = i.text\n",
    "    KM.append(km_run)\n",
    "len(KM)"
   ]
  },
  {
   "cell_type": "code",
   "execution_count": 18,
   "metadata": {},
   "outputs": [
    {
     "data": {
      "text/plain": [
       "1181"
      ]
     },
     "execution_count": 18,
     "metadata": {},
     "output_type": "execute_result"
    }
   ],
   "source": [
    "\n",
    "PRICE = []\n",
    "\n",
    "price_tag = driver1.find_elements_by_xpath(\"//div[@class='_7udZZ']\")\n",
    "price_tag\n",
    "for i in price_tag:\n",
    "    price = i.text\n",
    "    PRICE.append(price)\n",
    "len(PRICE)"
   ]
  },
  {
   "cell_type": "code",
   "execution_count": 19,
   "metadata": {},
   "outputs": [
    {
     "data": {
      "text/plain": [
       "1181"
      ]
     },
     "execution_count": 19,
     "metadata": {},
     "output_type": "execute_result"
    }
   ],
   "source": [
    "CAR_MODEL = []\n",
    "\n",
    "model = driver1.find_elements_by_xpath(\"//p[@class='cvakB']\")\n",
    "model\n",
    "\n",
    "try:\n",
    "    for i in model:\n",
    "        model = i.text\n",
    "        CAR_MODEL.append(model)\n",
    "except:\n",
    "        CAR_MODEL.append('-')\n",
    "        \n",
    "len(CAR_MODEL)"
   ]
  },
  {
   "cell_type": "code",
   "execution_count": 20,
   "metadata": {},
   "outputs": [
    {
     "data": {
      "text/html": [
       "<div>\n",
       "<style scoped>\n",
       "    .dataframe tbody tr th:only-of-type {\n",
       "        vertical-align: middle;\n",
       "    }\n",
       "\n",
       "    .dataframe tbody tr th {\n",
       "        vertical-align: top;\n",
       "    }\n",
       "\n",
       "    .dataframe thead th {\n",
       "        text-align: right;\n",
       "    }\n",
       "</style>\n",
       "<table border=\"1\" class=\"dataframe\">\n",
       "  <thead>\n",
       "    <tr style=\"text-align: right;\">\n",
       "      <th></th>\n",
       "      <th>MODEL</th>\n",
       "      <th>CAR_MODEL</th>\n",
       "      <th>KM</th>\n",
       "      <th>PRICE</th>\n",
       "    </tr>\n",
       "  </thead>\n",
       "  <tbody>\n",
       "    <tr>\n",
       "      <th>0</th>\n",
       "      <td>2012 Maruti Swift</td>\n",
       "      <td>VDI Manual</td>\n",
       "      <td>69,711 km\\n2nd Owner\\nDiesel</td>\n",
       "      <td>₹4,17,099</td>\n",
       "    </tr>\n",
       "    <tr>\n",
       "      <th>1</th>\n",
       "      <td>2016 Maruti Ertiga</td>\n",
       "      <td>VDI SHVS Manual</td>\n",
       "      <td>1,30,674 km\\n1st Owner\\nDiesel</td>\n",
       "      <td>₹7,08,999</td>\n",
       "    </tr>\n",
       "    <tr>\n",
       "      <th>2</th>\n",
       "      <td>2013 Maruti Wagon R 1.0</td>\n",
       "      <td>VXI Manual</td>\n",
       "      <td>80,310 km\\n2nd Owner\\nPetrol</td>\n",
       "      <td>₹3,29,299</td>\n",
       "    </tr>\n",
       "    <tr>\n",
       "      <th>3</th>\n",
       "      <td>2014 Maruti Wagon R 1.0</td>\n",
       "      <td>VXI Manual</td>\n",
       "      <td>56,827 km\\n1st Owner\\nPetrol</td>\n",
       "      <td>₹3,19,099</td>\n",
       "    </tr>\n",
       "    <tr>\n",
       "      <th>4</th>\n",
       "      <td>2016 Maruti Vitara Brezza</td>\n",
       "      <td>ZDI Manual</td>\n",
       "      <td>67,227 km\\n1st Owner\\nDiesel</td>\n",
       "      <td>₹7,57,499</td>\n",
       "    </tr>\n",
       "  </tbody>\n",
       "</table>\n",
       "</div>"
      ],
      "text/plain": [
       "                       MODEL        CAR_MODEL                              KM  \\\n",
       "0          2012 Maruti Swift       VDI Manual    69,711 km\\n2nd Owner\\nDiesel   \n",
       "1         2016 Maruti Ertiga  VDI SHVS Manual  1,30,674 km\\n1st Owner\\nDiesel   \n",
       "2    2013 Maruti Wagon R 1.0       VXI Manual    80,310 km\\n2nd Owner\\nPetrol   \n",
       "3    2014 Maruti Wagon R 1.0       VXI Manual    56,827 km\\n1st Owner\\nPetrol   \n",
       "4  2016 Maruti Vitara Brezza       ZDI Manual    67,227 km\\n1st Owner\\nDiesel   \n",
       "\n",
       "       PRICE  \n",
       "0  ₹4,17,099  \n",
       "1  ₹7,08,999  \n",
       "2  ₹3,29,299  \n",
       "3  ₹3,19,099  \n",
       "4  ₹7,57,499  "
      ]
     },
     "execution_count": 20,
     "metadata": {},
     "output_type": "execute_result"
    }
   ],
   "source": [
    "df=pd.DataFrame()\n",
    "\n",
    "df['MODEL']=MODEL\n",
    "df['CAR_MODEL']=CAR_MODEL\n",
    "df['KM']=KM\n",
    "df['PRICE']=PRICE\n",
    "df.head()"
   ]
  },
  {
   "cell_type": "code",
   "execution_count": 21,
   "metadata": {},
   "outputs": [
    {
     "data": {
      "text/plain": [
       "(1181, 4)"
      ]
     },
     "execution_count": 21,
     "metadata": {},
     "output_type": "execute_result"
    }
   ],
   "source": [
    "df.shape"
   ]
  },
  {
   "cell_type": "code",
   "execution_count": 22,
   "metadata": {},
   "outputs": [],
   "source": [
    "df1= pd.DataFrame(df.MODEL.str.split(' ',1).tolist(),\n",
    "                                 columns = ['MANUFACTURING_YEAR','COMPANY'])"
   ]
  },
  {
   "cell_type": "code",
   "execution_count": 23,
   "metadata": {},
   "outputs": [
    {
     "data": {
      "text/html": [
       "<div>\n",
       "<style scoped>\n",
       "    .dataframe tbody tr th:only-of-type {\n",
       "        vertical-align: middle;\n",
       "    }\n",
       "\n",
       "    .dataframe tbody tr th {\n",
       "        vertical-align: top;\n",
       "    }\n",
       "\n",
       "    .dataframe thead th {\n",
       "        text-align: right;\n",
       "    }\n",
       "</style>\n",
       "<table border=\"1\" class=\"dataframe\">\n",
       "  <thead>\n",
       "    <tr style=\"text-align: right;\">\n",
       "      <th></th>\n",
       "      <th>MANUFACTURING_YEAR</th>\n",
       "      <th>COMPANY</th>\n",
       "    </tr>\n",
       "  </thead>\n",
       "  <tbody>\n",
       "    <tr>\n",
       "      <th>0</th>\n",
       "      <td>2012</td>\n",
       "      <td>Maruti Swift</td>\n",
       "    </tr>\n",
       "    <tr>\n",
       "      <th>1</th>\n",
       "      <td>2016</td>\n",
       "      <td>Maruti Ertiga</td>\n",
       "    </tr>\n",
       "    <tr>\n",
       "      <th>2</th>\n",
       "      <td>2013</td>\n",
       "      <td>Maruti Wagon R 1.0</td>\n",
       "    </tr>\n",
       "    <tr>\n",
       "      <th>3</th>\n",
       "      <td>2014</td>\n",
       "      <td>Maruti Wagon R 1.0</td>\n",
       "    </tr>\n",
       "    <tr>\n",
       "      <th>4</th>\n",
       "      <td>2016</td>\n",
       "      <td>Maruti Vitara Brezza</td>\n",
       "    </tr>\n",
       "    <tr>\n",
       "      <th>...</th>\n",
       "      <td>...</td>\n",
       "      <td>...</td>\n",
       "    </tr>\n",
       "    <tr>\n",
       "      <th>1176</th>\n",
       "      <td>2017</td>\n",
       "      <td>Maruti Celerio</td>\n",
       "    </tr>\n",
       "    <tr>\n",
       "      <th>1177</th>\n",
       "      <td>2017</td>\n",
       "      <td>Ford Ecosport</td>\n",
       "    </tr>\n",
       "    <tr>\n",
       "      <th>1178</th>\n",
       "      <td>2018</td>\n",
       "      <td>Maruti Wagon R 1.0</td>\n",
       "    </tr>\n",
       "    <tr>\n",
       "      <th>1179</th>\n",
       "      <td>2015</td>\n",
       "      <td>Honda City</td>\n",
       "    </tr>\n",
       "    <tr>\n",
       "      <th>1180</th>\n",
       "      <td>2013</td>\n",
       "      <td>Hyundai i20</td>\n",
       "    </tr>\n",
       "  </tbody>\n",
       "</table>\n",
       "<p>1181 rows × 2 columns</p>\n",
       "</div>"
      ],
      "text/plain": [
       "     MANUFACTURING_YEAR               COMPANY\n",
       "0                  2012          Maruti Swift\n",
       "1                  2016         Maruti Ertiga\n",
       "2                  2013    Maruti Wagon R 1.0\n",
       "3                  2014    Maruti Wagon R 1.0\n",
       "4                  2016  Maruti Vitara Brezza\n",
       "...                 ...                   ...\n",
       "1176               2017        Maruti Celerio\n",
       "1177               2017         Ford Ecosport\n",
       "1178               2018    Maruti Wagon R 1.0\n",
       "1179               2015            Honda City\n",
       "1180               2013           Hyundai i20\n",
       "\n",
       "[1181 rows x 2 columns]"
      ]
     },
     "execution_count": 23,
     "metadata": {},
     "output_type": "execute_result"
    }
   ],
   "source": [
    "df1"
   ]
  },
  {
   "cell_type": "code",
   "execution_count": 37,
   "metadata": {},
   "outputs": [],
   "source": [
    "df2= pd.DataFrame(df.KM.str.split('\\n').tolist(),\n",
    "                                 columns = ['Kilometer','Owner','Fuel'])"
   ]
  },
  {
   "cell_type": "code",
   "execution_count": 38,
   "metadata": {},
   "outputs": [
    {
     "data": {
      "text/html": [
       "<div>\n",
       "<style scoped>\n",
       "    .dataframe tbody tr th:only-of-type {\n",
       "        vertical-align: middle;\n",
       "    }\n",
       "\n",
       "    .dataframe tbody tr th {\n",
       "        vertical-align: top;\n",
       "    }\n",
       "\n",
       "    .dataframe thead th {\n",
       "        text-align: right;\n",
       "    }\n",
       "</style>\n",
       "<table border=\"1\" class=\"dataframe\">\n",
       "  <thead>\n",
       "    <tr style=\"text-align: right;\">\n",
       "      <th></th>\n",
       "      <th>Kilometer</th>\n",
       "      <th>Owner</th>\n",
       "      <th>Fuel</th>\n",
       "    </tr>\n",
       "  </thead>\n",
       "  <tbody>\n",
       "    <tr>\n",
       "      <th>0</th>\n",
       "      <td>69,711 km</td>\n",
       "      <td>2nd Owner</td>\n",
       "      <td>Diesel</td>\n",
       "    </tr>\n",
       "    <tr>\n",
       "      <th>1</th>\n",
       "      <td>1,30,674 km</td>\n",
       "      <td>1st Owner</td>\n",
       "      <td>Diesel</td>\n",
       "    </tr>\n",
       "    <tr>\n",
       "      <th>2</th>\n",
       "      <td>80,310 km</td>\n",
       "      <td>2nd Owner</td>\n",
       "      <td>Petrol</td>\n",
       "    </tr>\n",
       "    <tr>\n",
       "      <th>3</th>\n",
       "      <td>56,827 km</td>\n",
       "      <td>1st Owner</td>\n",
       "      <td>Petrol</td>\n",
       "    </tr>\n",
       "    <tr>\n",
       "      <th>4</th>\n",
       "      <td>67,227 km</td>\n",
       "      <td>1st Owner</td>\n",
       "      <td>Diesel</td>\n",
       "    </tr>\n",
       "    <tr>\n",
       "      <th>...</th>\n",
       "      <td>...</td>\n",
       "      <td>...</td>\n",
       "      <td>...</td>\n",
       "    </tr>\n",
       "    <tr>\n",
       "      <th>1176</th>\n",
       "      <td>36,719 km</td>\n",
       "      <td>1st Owner</td>\n",
       "      <td>Petrol</td>\n",
       "    </tr>\n",
       "    <tr>\n",
       "      <th>1177</th>\n",
       "      <td>24,990 km</td>\n",
       "      <td>1st Owner</td>\n",
       "      <td>Petrol</td>\n",
       "    </tr>\n",
       "    <tr>\n",
       "      <th>1178</th>\n",
       "      <td>35,242 km</td>\n",
       "      <td>1st Owner</td>\n",
       "      <td>Petrol</td>\n",
       "    </tr>\n",
       "    <tr>\n",
       "      <th>1179</th>\n",
       "      <td>64,209 km</td>\n",
       "      <td>2nd Owner</td>\n",
       "      <td>Petrol</td>\n",
       "    </tr>\n",
       "    <tr>\n",
       "      <th>1180</th>\n",
       "      <td>81,549 km</td>\n",
       "      <td>1st Owner</td>\n",
       "      <td>Petrol</td>\n",
       "    </tr>\n",
       "  </tbody>\n",
       "</table>\n",
       "<p>1181 rows × 3 columns</p>\n",
       "</div>"
      ],
      "text/plain": [
       "        Kilometer      Owner    Fuel\n",
       "0       69,711 km  2nd Owner  Diesel\n",
       "1     1,30,674 km  1st Owner  Diesel\n",
       "2       80,310 km  2nd Owner  Petrol\n",
       "3       56,827 km  1st Owner  Petrol\n",
       "4       67,227 km  1st Owner  Diesel\n",
       "...           ...        ...     ...\n",
       "1176    36,719 km  1st Owner  Petrol\n",
       "1177    24,990 km  1st Owner  Petrol\n",
       "1178    35,242 km  1st Owner  Petrol\n",
       "1179    64,209 km  2nd Owner  Petrol\n",
       "1180    81,549 km  1st Owner  Petrol\n",
       "\n",
       "[1181 rows x 3 columns]"
      ]
     },
     "execution_count": 38,
     "metadata": {},
     "output_type": "execute_result"
    }
   ],
   "source": [
    "df2"
   ]
  },
  {
   "cell_type": "code",
   "execution_count": 44,
   "metadata": {},
   "outputs": [],
   "source": [
    "l1=df1['MANUFACTURING_YEAR']"
   ]
  },
  {
   "cell_type": "code",
   "execution_count": 45,
   "metadata": {},
   "outputs": [
    {
     "data": {
      "text/plain": [
       "0       2012\n",
       "1       2016\n",
       "2       2013\n",
       "3       2014\n",
       "4       2016\n",
       "        ... \n",
       "1176    2017\n",
       "1177    2017\n",
       "1178    2018\n",
       "1179    2015\n",
       "1180    2013\n",
       "Name: MANUFACTURING_YEAR, Length: 1181, dtype: object"
      ]
     },
     "execution_count": 45,
     "metadata": {},
     "output_type": "execute_result"
    }
   ],
   "source": [
    "l1"
   ]
  },
  {
   "cell_type": "code",
   "execution_count": 46,
   "metadata": {},
   "outputs": [],
   "source": [
    "l2=df1['COMPANY']"
   ]
  },
  {
   "cell_type": "code",
   "execution_count": 47,
   "metadata": {},
   "outputs": [
    {
     "data": {
      "text/plain": [
       "0               Maruti Swift\n",
       "1              Maruti Ertiga\n",
       "2         Maruti Wagon R 1.0\n",
       "3         Maruti Wagon R 1.0\n",
       "4       Maruti Vitara Brezza\n",
       "                ...         \n",
       "1176          Maruti Celerio\n",
       "1177           Ford Ecosport\n",
       "1178      Maruti Wagon R 1.0\n",
       "1179              Honda City\n",
       "1180             Hyundai i20\n",
       "Name: COMPANY, Length: 1181, dtype: object"
      ]
     },
     "execution_count": 47,
     "metadata": {},
     "output_type": "execute_result"
    }
   ],
   "source": [
    "l2"
   ]
  },
  {
   "cell_type": "code",
   "execution_count": 50,
   "metadata": {},
   "outputs": [],
   "source": [
    "l3=df['CAR_MODEL']"
   ]
  },
  {
   "cell_type": "code",
   "execution_count": 51,
   "metadata": {},
   "outputs": [
    {
     "data": {
      "text/plain": [
       "0                       VDI Manual\n",
       "1                  VDI SHVS Manual\n",
       "2                       VXI Manual\n",
       "3                       VXI Manual\n",
       "4                       ZDI Manual\n",
       "                   ...            \n",
       "1176                VXI (O) Manual\n",
       "1177    1.5 TITANIUM TI VCT Manual\n",
       "1178             VXI AMT Automatic\n",
       "1179           VX MT PETROL Manual\n",
       "1180        SPORTZ 1.2 VTVT Manual\n",
       "Name: CAR_MODEL, Length: 1181, dtype: object"
      ]
     },
     "execution_count": 51,
     "metadata": {},
     "output_type": "execute_result"
    }
   ],
   "source": [
    "l3"
   ]
  },
  {
   "cell_type": "code",
   "execution_count": 52,
   "metadata": {},
   "outputs": [],
   "source": [
    "l4=df2['Kilometer']"
   ]
  },
  {
   "cell_type": "code",
   "execution_count": 53,
   "metadata": {},
   "outputs": [
    {
     "data": {
      "text/plain": [
       "0         69,711 km\n",
       "1       1,30,674 km\n",
       "2         80,310 km\n",
       "3         56,827 km\n",
       "4         67,227 km\n",
       "           ...     \n",
       "1176      36,719 km\n",
       "1177      24,990 km\n",
       "1178      35,242 km\n",
       "1179      64,209 km\n",
       "1180      81,549 km\n",
       "Name: Kilometer, Length: 1181, dtype: object"
      ]
     },
     "execution_count": 53,
     "metadata": {},
     "output_type": "execute_result"
    }
   ],
   "source": [
    "l4"
   ]
  },
  {
   "cell_type": "code",
   "execution_count": 54,
   "metadata": {},
   "outputs": [],
   "source": [
    "l5=df2['Owner']"
   ]
  },
  {
   "cell_type": "code",
   "execution_count": 55,
   "metadata": {},
   "outputs": [
    {
     "data": {
      "text/plain": [
       "0       2nd Owner\n",
       "1       1st Owner\n",
       "2       2nd Owner\n",
       "3       1st Owner\n",
       "4       1st Owner\n",
       "          ...    \n",
       "1176    1st Owner\n",
       "1177    1st Owner\n",
       "1178    1st Owner\n",
       "1179    2nd Owner\n",
       "1180    1st Owner\n",
       "Name: Owner, Length: 1181, dtype: object"
      ]
     },
     "execution_count": 55,
     "metadata": {},
     "output_type": "execute_result"
    }
   ],
   "source": [
    "l5"
   ]
  },
  {
   "cell_type": "code",
   "execution_count": 56,
   "metadata": {},
   "outputs": [],
   "source": [
    "l6=df2['Fuel']"
   ]
  },
  {
   "cell_type": "code",
   "execution_count": 57,
   "metadata": {},
   "outputs": [
    {
     "data": {
      "text/plain": [
       "0       Diesel\n",
       "1       Diesel\n",
       "2       Petrol\n",
       "3       Petrol\n",
       "4       Diesel\n",
       "         ...  \n",
       "1176    Petrol\n",
       "1177    Petrol\n",
       "1178    Petrol\n",
       "1179    Petrol\n",
       "1180    Petrol\n",
       "Name: Fuel, Length: 1181, dtype: object"
      ]
     },
     "execution_count": 57,
     "metadata": {},
     "output_type": "execute_result"
    }
   ],
   "source": [
    "l6"
   ]
  },
  {
   "cell_type": "code",
   "execution_count": 59,
   "metadata": {},
   "outputs": [],
   "source": [
    "l7=df['PRICE']"
   ]
  },
  {
   "cell_type": "code",
   "execution_count": 60,
   "metadata": {},
   "outputs": [
    {
     "data": {
      "text/plain": [
       "0       ₹4,17,099\n",
       "1       ₹7,08,999\n",
       "2       ₹3,29,299\n",
       "3       ₹3,19,099\n",
       "4       ₹7,57,499\n",
       "          ...    \n",
       "1176    ₹4,74,899\n",
       "1177    ₹7,25,099\n",
       "1178    ₹4,77,999\n",
       "1179    ₹6,29,799\n",
       "1180    ₹4,22,099\n",
       "Name: PRICE, Length: 1181, dtype: object"
      ]
     },
     "execution_count": 60,
     "metadata": {},
     "output_type": "execute_result"
    }
   ],
   "source": [
    "l7"
   ]
  },
  {
   "cell_type": "code",
   "execution_count": 61,
   "metadata": {},
   "outputs": [
    {
     "data": {
      "text/html": [
       "<div>\n",
       "<style scoped>\n",
       "    .dataframe tbody tr th:only-of-type {\n",
       "        vertical-align: middle;\n",
       "    }\n",
       "\n",
       "    .dataframe tbody tr th {\n",
       "        vertical-align: top;\n",
       "    }\n",
       "\n",
       "    .dataframe thead th {\n",
       "        text-align: right;\n",
       "    }\n",
       "</style>\n",
       "<table border=\"1\" class=\"dataframe\">\n",
       "  <thead>\n",
       "    <tr style=\"text-align: right;\">\n",
       "      <th></th>\n",
       "      <th>MANUFACTURING_YEAR</th>\n",
       "      <th>COMPANY</th>\n",
       "      <th>CAR_MODEL</th>\n",
       "      <th>Kilometer</th>\n",
       "      <th>Owner</th>\n",
       "      <th>Fuel</th>\n",
       "      <th>PRICE</th>\n",
       "    </tr>\n",
       "  </thead>\n",
       "  <tbody>\n",
       "    <tr>\n",
       "      <th>0</th>\n",
       "      <td>2012</td>\n",
       "      <td>Maruti Swift</td>\n",
       "      <td>VDI Manual</td>\n",
       "      <td>69,711 km</td>\n",
       "      <td>2nd Owner</td>\n",
       "      <td>Diesel</td>\n",
       "      <td>₹4,17,099</td>\n",
       "    </tr>\n",
       "    <tr>\n",
       "      <th>1</th>\n",
       "      <td>2016</td>\n",
       "      <td>Maruti Ertiga</td>\n",
       "      <td>VDI SHVS Manual</td>\n",
       "      <td>1,30,674 km</td>\n",
       "      <td>1st Owner</td>\n",
       "      <td>Diesel</td>\n",
       "      <td>₹7,08,999</td>\n",
       "    </tr>\n",
       "    <tr>\n",
       "      <th>2</th>\n",
       "      <td>2013</td>\n",
       "      <td>Maruti Wagon R 1.0</td>\n",
       "      <td>VXI Manual</td>\n",
       "      <td>80,310 km</td>\n",
       "      <td>2nd Owner</td>\n",
       "      <td>Petrol</td>\n",
       "      <td>₹3,29,299</td>\n",
       "    </tr>\n",
       "    <tr>\n",
       "      <th>3</th>\n",
       "      <td>2014</td>\n",
       "      <td>Maruti Wagon R 1.0</td>\n",
       "      <td>VXI Manual</td>\n",
       "      <td>56,827 km</td>\n",
       "      <td>1st Owner</td>\n",
       "      <td>Petrol</td>\n",
       "      <td>₹3,19,099</td>\n",
       "    </tr>\n",
       "    <tr>\n",
       "      <th>4</th>\n",
       "      <td>2016</td>\n",
       "      <td>Maruti Vitara Brezza</td>\n",
       "      <td>ZDI Manual</td>\n",
       "      <td>67,227 km</td>\n",
       "      <td>1st Owner</td>\n",
       "      <td>Diesel</td>\n",
       "      <td>₹7,57,499</td>\n",
       "    </tr>\n",
       "  </tbody>\n",
       "</table>\n",
       "</div>"
      ],
      "text/plain": [
       "  MANUFACTURING_YEAR               COMPANY        CAR_MODEL    Kilometer  \\\n",
       "0               2012          Maruti Swift       VDI Manual    69,711 km   \n",
       "1               2016         Maruti Ertiga  VDI SHVS Manual  1,30,674 km   \n",
       "2               2013    Maruti Wagon R 1.0       VXI Manual    80,310 km   \n",
       "3               2014    Maruti Wagon R 1.0       VXI Manual    56,827 km   \n",
       "4               2016  Maruti Vitara Brezza       ZDI Manual    67,227 km   \n",
       "\n",
       "       Owner    Fuel      PRICE  \n",
       "0  2nd Owner  Diesel  ₹4,17,099  \n",
       "1  1st Owner  Diesel  ₹7,08,999  \n",
       "2  2nd Owner  Petrol  ₹3,29,299  \n",
       "3  1st Owner  Petrol  ₹3,19,099  \n",
       "4  1st Owner  Diesel  ₹7,57,499  "
      ]
     },
     "execution_count": 61,
     "metadata": {},
     "output_type": "execute_result"
    }
   ],
   "source": [
    "d=pd.DataFrame()\n",
    "\n",
    "d['MANUFACTURING_YEAR']=l1\n",
    "d['COMPANY']=l2\n",
    "d['CAR_MODEL']=l3\n",
    "d['Kilometer']=l4\n",
    "d['Owner']=l5\n",
    "d['Fuel']=l6\n",
    "d['PRICE']=l7\n",
    "d.head()"
   ]
  },
  {
   "cell_type": "code",
   "execution_count": 62,
   "metadata": {},
   "outputs": [
    {
     "data": {
      "text/html": [
       "<div>\n",
       "<style scoped>\n",
       "    .dataframe tbody tr th:only-of-type {\n",
       "        vertical-align: middle;\n",
       "    }\n",
       "\n",
       "    .dataframe tbody tr th {\n",
       "        vertical-align: top;\n",
       "    }\n",
       "\n",
       "    .dataframe thead th {\n",
       "        text-align: right;\n",
       "    }\n",
       "</style>\n",
       "<table border=\"1\" class=\"dataframe\">\n",
       "  <thead>\n",
       "    <tr style=\"text-align: right;\">\n",
       "      <th></th>\n",
       "      <th>MANUFACTURING_YEAR</th>\n",
       "      <th>COMPANY</th>\n",
       "      <th>CAR_MODEL</th>\n",
       "      <th>Kilometer</th>\n",
       "      <th>Owner</th>\n",
       "      <th>Fuel</th>\n",
       "      <th>PRICE</th>\n",
       "    </tr>\n",
       "  </thead>\n",
       "  <tbody>\n",
       "    <tr>\n",
       "      <th>0</th>\n",
       "      <td>2012</td>\n",
       "      <td>Maruti Swift</td>\n",
       "      <td>VDI Manual</td>\n",
       "      <td>69,711 km</td>\n",
       "      <td>2nd Owner</td>\n",
       "      <td>Diesel</td>\n",
       "      <td>₹4,17,099</td>\n",
       "    </tr>\n",
       "    <tr>\n",
       "      <th>1</th>\n",
       "      <td>2016</td>\n",
       "      <td>Maruti Ertiga</td>\n",
       "      <td>VDI SHVS Manual</td>\n",
       "      <td>1,30,674 km</td>\n",
       "      <td>1st Owner</td>\n",
       "      <td>Diesel</td>\n",
       "      <td>₹7,08,999</td>\n",
       "    </tr>\n",
       "    <tr>\n",
       "      <th>2</th>\n",
       "      <td>2013</td>\n",
       "      <td>Maruti Wagon R 1.0</td>\n",
       "      <td>VXI Manual</td>\n",
       "      <td>80,310 km</td>\n",
       "      <td>2nd Owner</td>\n",
       "      <td>Petrol</td>\n",
       "      <td>₹3,29,299</td>\n",
       "    </tr>\n",
       "    <tr>\n",
       "      <th>3</th>\n",
       "      <td>2014</td>\n",
       "      <td>Maruti Wagon R 1.0</td>\n",
       "      <td>VXI Manual</td>\n",
       "      <td>56,827 km</td>\n",
       "      <td>1st Owner</td>\n",
       "      <td>Petrol</td>\n",
       "      <td>₹3,19,099</td>\n",
       "    </tr>\n",
       "    <tr>\n",
       "      <th>4</th>\n",
       "      <td>2016</td>\n",
       "      <td>Maruti Vitara Brezza</td>\n",
       "      <td>ZDI Manual</td>\n",
       "      <td>67,227 km</td>\n",
       "      <td>1st Owner</td>\n",
       "      <td>Diesel</td>\n",
       "      <td>₹7,57,499</td>\n",
       "    </tr>\n",
       "    <tr>\n",
       "      <th>...</th>\n",
       "      <td>...</td>\n",
       "      <td>...</td>\n",
       "      <td>...</td>\n",
       "      <td>...</td>\n",
       "      <td>...</td>\n",
       "      <td>...</td>\n",
       "      <td>...</td>\n",
       "    </tr>\n",
       "    <tr>\n",
       "      <th>1176</th>\n",
       "      <td>2017</td>\n",
       "      <td>Maruti Celerio</td>\n",
       "      <td>VXI (O) Manual</td>\n",
       "      <td>36,719 km</td>\n",
       "      <td>1st Owner</td>\n",
       "      <td>Petrol</td>\n",
       "      <td>₹4,74,899</td>\n",
       "    </tr>\n",
       "    <tr>\n",
       "      <th>1177</th>\n",
       "      <td>2017</td>\n",
       "      <td>Ford Ecosport</td>\n",
       "      <td>1.5 TITANIUM TI VCT Manual</td>\n",
       "      <td>24,990 km</td>\n",
       "      <td>1st Owner</td>\n",
       "      <td>Petrol</td>\n",
       "      <td>₹7,25,099</td>\n",
       "    </tr>\n",
       "    <tr>\n",
       "      <th>1178</th>\n",
       "      <td>2018</td>\n",
       "      <td>Maruti Wagon R 1.0</td>\n",
       "      <td>VXI AMT Automatic</td>\n",
       "      <td>35,242 km</td>\n",
       "      <td>1st Owner</td>\n",
       "      <td>Petrol</td>\n",
       "      <td>₹4,77,999</td>\n",
       "    </tr>\n",
       "    <tr>\n",
       "      <th>1179</th>\n",
       "      <td>2015</td>\n",
       "      <td>Honda City</td>\n",
       "      <td>VX MT PETROL Manual</td>\n",
       "      <td>64,209 km</td>\n",
       "      <td>2nd Owner</td>\n",
       "      <td>Petrol</td>\n",
       "      <td>₹6,29,799</td>\n",
       "    </tr>\n",
       "    <tr>\n",
       "      <th>1180</th>\n",
       "      <td>2013</td>\n",
       "      <td>Hyundai i20</td>\n",
       "      <td>SPORTZ 1.2 VTVT Manual</td>\n",
       "      <td>81,549 km</td>\n",
       "      <td>1st Owner</td>\n",
       "      <td>Petrol</td>\n",
       "      <td>₹4,22,099</td>\n",
       "    </tr>\n",
       "  </tbody>\n",
       "</table>\n",
       "<p>1181 rows × 7 columns</p>\n",
       "</div>"
      ],
      "text/plain": [
       "     MANUFACTURING_YEAR               COMPANY                   CAR_MODEL  \\\n",
       "0                  2012          Maruti Swift                  VDI Manual   \n",
       "1                  2016         Maruti Ertiga             VDI SHVS Manual   \n",
       "2                  2013    Maruti Wagon R 1.0                  VXI Manual   \n",
       "3                  2014    Maruti Wagon R 1.0                  VXI Manual   \n",
       "4                  2016  Maruti Vitara Brezza                  ZDI Manual   \n",
       "...                 ...                   ...                         ...   \n",
       "1176               2017        Maruti Celerio              VXI (O) Manual   \n",
       "1177               2017         Ford Ecosport  1.5 TITANIUM TI VCT Manual   \n",
       "1178               2018    Maruti Wagon R 1.0           VXI AMT Automatic   \n",
       "1179               2015            Honda City         VX MT PETROL Manual   \n",
       "1180               2013           Hyundai i20      SPORTZ 1.2 VTVT Manual   \n",
       "\n",
       "        Kilometer      Owner    Fuel      PRICE  \n",
       "0       69,711 km  2nd Owner  Diesel  ₹4,17,099  \n",
       "1     1,30,674 km  1st Owner  Diesel  ₹7,08,999  \n",
       "2       80,310 km  2nd Owner  Petrol  ₹3,29,299  \n",
       "3       56,827 km  1st Owner  Petrol  ₹3,19,099  \n",
       "4       67,227 km  1st Owner  Diesel  ₹7,57,499  \n",
       "...           ...        ...     ...        ...  \n",
       "1176    36,719 km  1st Owner  Petrol  ₹4,74,899  \n",
       "1177    24,990 km  1st Owner  Petrol  ₹7,25,099  \n",
       "1178    35,242 km  1st Owner  Petrol  ₹4,77,999  \n",
       "1179    64,209 km  2nd Owner  Petrol  ₹6,29,799  \n",
       "1180    81,549 km  1st Owner  Petrol  ₹4,22,099  \n",
       "\n",
       "[1181 rows x 7 columns]"
      ]
     },
     "execution_count": 62,
     "metadata": {},
     "output_type": "execute_result"
    }
   ],
   "source": [
    "d"
   ]
  },
  {
   "cell_type": "code",
   "execution_count": 63,
   "metadata": {},
   "outputs": [],
   "source": [
    "d.to_csv('Used_car_details.csv')"
   ]
  },
  {
   "cell_type": "code",
   "execution_count": null,
   "metadata": {},
   "outputs": [],
   "source": []
  }
 ],
 "metadata": {
  "kernelspec": {
   "display_name": "Python 3",
   "language": "python",
   "name": "python3"
  },
  "language_info": {
   "codemirror_mode": {
    "name": "ipython",
    "version": 3
   },
   "file_extension": ".py",
   "mimetype": "text/x-python",
   "name": "python",
   "nbconvert_exporter": "python",
   "pygments_lexer": "ipython3",
   "version": "3.8.3"
  }
 },
 "nbformat": 4,
 "nbformat_minor": 4
}
