{
 "cells": [
  {
   "cell_type": "code",
   "execution_count": 7,
   "metadata": {},
   "outputs": [],
   "source": [
    "import numpy as np\n",
    "import pandas as pd\n",
    "import seaborn as sns\n",
    "import matplotlib.pyplot as plt\n",
    "%matplotlib inline\n",
    "\n",
    "from sklearn.model_selection import train_test_split\n",
    "from sklearn.metrics import r2_score,mean_squared_error,mean_absolute_error\n",
    "\n",
    "from sklearn.model_selection import cross_val_score\n",
    "\n",
    "import warnings\n",
    "warnings.filterwarnings('ignore')"
   ]
  },
  {
   "cell_type": "code",
   "execution_count": 8,
   "metadata": {},
   "outputs": [],
   "source": [
    "data=pd.read_csv('Used_CarDetails.csv')"
   ]
  },
  {
   "cell_type": "code",
   "execution_count": 9,
   "metadata": {},
   "outputs": [
    {
     "data": {
      "text/html": [
       "<div>\n",
       "<style scoped>\n",
       "    .dataframe tbody tr th:only-of-type {\n",
       "        vertical-align: middle;\n",
       "    }\n",
       "\n",
       "    .dataframe tbody tr th {\n",
       "        vertical-align: top;\n",
       "    }\n",
       "\n",
       "    .dataframe thead th {\n",
       "        text-align: right;\n",
       "    }\n",
       "</style>\n",
       "<table border=\"1\" class=\"dataframe\">\n",
       "  <thead>\n",
       "    <tr style=\"text-align: right;\">\n",
       "      <th></th>\n",
       "      <th>Unnamed: 0</th>\n",
       "      <th>Unnamed: 0.1</th>\n",
       "      <th>Model</th>\n",
       "      <th>Make_Year</th>\n",
       "      <th>Driven_Kilometers</th>\n",
       "      <th>Fuel</th>\n",
       "      <th>Transmission</th>\n",
       "      <th>Owner(s)</th>\n",
       "      <th>Mileage</th>\n",
       "      <th>Engine</th>\n",
       "      <th>Price</th>\n",
       "      <th>Location</th>\n",
       "    </tr>\n",
       "  </thead>\n",
       "  <tbody>\n",
       "    <tr>\n",
       "      <th>0</th>\n",
       "      <td>12</td>\n",
       "      <td>12</td>\n",
       "      <td>Maruti Wagon R</td>\n",
       "      <td>2017</td>\n",
       "      <td>41174</td>\n",
       "      <td>Petrol</td>\n",
       "      <td>Automatic</td>\n",
       "      <td>1</td>\n",
       "      <td>20.51</td>\n",
       "      <td>998</td>\n",
       "      <td>430000</td>\n",
       "      <td>Ahmedabad</td>\n",
       "    </tr>\n",
       "    <tr>\n",
       "      <th>1</th>\n",
       "      <td>14</td>\n",
       "      <td>14</td>\n",
       "      <td>Hyundai Verna CRDi . AT SX Plus</td>\n",
       "      <td>2017</td>\n",
       "      <td>70000</td>\n",
       "      <td>Diesel</td>\n",
       "      <td>Automatic</td>\n",
       "      <td>1</td>\n",
       "      <td>22.00</td>\n",
       "      <td>1582</td>\n",
       "      <td>894999</td>\n",
       "      <td>Ahmedabad</td>\n",
       "    </tr>\n",
       "    <tr>\n",
       "      <th>2</th>\n",
       "      <td>58</td>\n",
       "      <td>58</td>\n",
       "      <td>Audi A  TDI Premium Plus</td>\n",
       "      <td>2018</td>\n",
       "      <td>14667</td>\n",
       "      <td>Diesel</td>\n",
       "      <td>Automatic</td>\n",
       "      <td>1</td>\n",
       "      <td>18.25</td>\n",
       "      <td>1968</td>\n",
       "      <td>3200000</td>\n",
       "      <td>Ahmedabad</td>\n",
       "    </tr>\n",
       "    <tr>\n",
       "      <th>3</th>\n",
       "      <td>62</td>\n",
       "      <td>62</td>\n",
       "      <td>Honda City i VTEC CVT VX</td>\n",
       "      <td>2016</td>\n",
       "      <td>55000</td>\n",
       "      <td>Petrol</td>\n",
       "      <td>Automatic</td>\n",
       "      <td>1</td>\n",
       "      <td>18.00</td>\n",
       "      <td>1497</td>\n",
       "      <td>877999</td>\n",
       "      <td>Ahmedabad</td>\n",
       "    </tr>\n",
       "    <tr>\n",
       "      <th>4</th>\n",
       "      <td>63</td>\n",
       "      <td>63</td>\n",
       "      <td>Mercedes-Benz E-Class Exclusive E  d BSIV</td>\n",
       "      <td>2019</td>\n",
       "      <td>30486</td>\n",
       "      <td>Diesel</td>\n",
       "      <td>Automatic</td>\n",
       "      <td>1</td>\n",
       "      <td>16.10</td>\n",
       "      <td>1950</td>\n",
       "      <td>4800000</td>\n",
       "      <td>Ahmedabad</td>\n",
       "    </tr>\n",
       "    <tr>\n",
       "      <th>...</th>\n",
       "      <td>...</td>\n",
       "      <td>...</td>\n",
       "      <td>...</td>\n",
       "      <td>...</td>\n",
       "      <td>...</td>\n",
       "      <td>...</td>\n",
       "      <td>...</td>\n",
       "      <td>...</td>\n",
       "      <td>...</td>\n",
       "      <td>...</td>\n",
       "      <td>...</td>\n",
       "      <td>...</td>\n",
       "    </tr>\n",
       "    <tr>\n",
       "      <th>6219</th>\n",
       "      <td>6411</td>\n",
       "      <td>6449</td>\n",
       "      <td>Ford EcoSport . Diesel Titanium BSIV</td>\n",
       "      <td>2019</td>\n",
       "      <td>30000</td>\n",
       "      <td>Diesel</td>\n",
       "      <td>Manual</td>\n",
       "      <td>1</td>\n",
       "      <td>23.00</td>\n",
       "      <td>1498</td>\n",
       "      <td>990000</td>\n",
       "      <td>Pune</td>\n",
       "    </tr>\n",
       "    <tr>\n",
       "      <th>6220</th>\n",
       "      <td>6412</td>\n",
       "      <td>6450</td>\n",
       "      <td>Maruti Wagon R VXI Plus</td>\n",
       "      <td>2017</td>\n",
       "      <td>40000</td>\n",
       "      <td>Petrol</td>\n",
       "      <td>Manual</td>\n",
       "      <td>1</td>\n",
       "      <td>20.51</td>\n",
       "      <td>998</td>\n",
       "      <td>450000</td>\n",
       "      <td>Pune</td>\n",
       "    </tr>\n",
       "    <tr>\n",
       "      <th>6221</th>\n",
       "      <td>6419</td>\n",
       "      <td>6457</td>\n",
       "      <td>Toyota Yaris G BSIV</td>\n",
       "      <td>2018</td>\n",
       "      <td>23643</td>\n",
       "      <td>Petrol</td>\n",
       "      <td>Manual</td>\n",
       "      <td>1</td>\n",
       "      <td>17.10</td>\n",
       "      <td>1496</td>\n",
       "      <td>1000000</td>\n",
       "      <td>Pune</td>\n",
       "    </tr>\n",
       "    <tr>\n",
       "      <th>6222</th>\n",
       "      <td>6422</td>\n",
       "      <td>6460</td>\n",
       "      <td>Hyundai Verna . VTVT</td>\n",
       "      <td>2012</td>\n",
       "      <td>69000</td>\n",
       "      <td>Petrol</td>\n",
       "      <td>Manual</td>\n",
       "      <td>1</td>\n",
       "      <td>17.43</td>\n",
       "      <td>1396</td>\n",
       "      <td>465000</td>\n",
       "      <td>Pune</td>\n",
       "    </tr>\n",
       "    <tr>\n",
       "      <th>6223</th>\n",
       "      <td>6423</td>\n",
       "      <td>6461</td>\n",
       "      <td>Maruti Zen Estilo LXI BSIII</td>\n",
       "      <td>2011</td>\n",
       "      <td>67000</td>\n",
       "      <td>Petrol</td>\n",
       "      <td>Manual</td>\n",
       "      <td>1</td>\n",
       "      <td>18.20</td>\n",
       "      <td>998</td>\n",
       "      <td>225000</td>\n",
       "      <td>Pune</td>\n",
       "    </tr>\n",
       "  </tbody>\n",
       "</table>\n",
       "<p>6224 rows × 12 columns</p>\n",
       "</div>"
      ],
      "text/plain": [
       "      Unnamed: 0  Unnamed: 0.1                                      Model  \\\n",
       "0             12            12                             Maruti Wagon R   \n",
       "1             14            14            Hyundai Verna CRDi . AT SX Plus   \n",
       "2             58            58                   Audi A  TDI Premium Plus   \n",
       "3             62            62                   Honda City i VTEC CVT VX   \n",
       "4             63            63  Mercedes-Benz E-Class Exclusive E  d BSIV   \n",
       "...          ...           ...                                        ...   \n",
       "6219        6411          6449       Ford EcoSport . Diesel Titanium BSIV   \n",
       "6220        6412          6450                    Maruti Wagon R VXI Plus   \n",
       "6221        6419          6457                        Toyota Yaris G BSIV   \n",
       "6222        6422          6460                       Hyundai Verna . VTVT   \n",
       "6223        6423          6461                Maruti Zen Estilo LXI BSIII   \n",
       "\n",
       "      Make_Year  Driven_Kilometers    Fuel Transmission  Owner(s)  Mileage  \\\n",
       "0          2017              41174  Petrol    Automatic         1    20.51   \n",
       "1          2017              70000  Diesel    Automatic         1    22.00   \n",
       "2          2018              14667  Diesel    Automatic         1    18.25   \n",
       "3          2016              55000  Petrol    Automatic         1    18.00   \n",
       "4          2019              30486  Diesel    Automatic         1    16.10   \n",
       "...         ...                ...     ...          ...       ...      ...   \n",
       "6219       2019              30000  Diesel       Manual         1    23.00   \n",
       "6220       2017              40000  Petrol       Manual         1    20.51   \n",
       "6221       2018              23643  Petrol       Manual         1    17.10   \n",
       "6222       2012              69000  Petrol       Manual         1    17.43   \n",
       "6223       2011              67000  Petrol       Manual         1    18.20   \n",
       "\n",
       "      Engine    Price   Location  \n",
       "0        998   430000  Ahmedabad  \n",
       "1       1582   894999  Ahmedabad  \n",
       "2       1968  3200000  Ahmedabad  \n",
       "3       1497   877999  Ahmedabad  \n",
       "4       1950  4800000  Ahmedabad  \n",
       "...      ...      ...        ...  \n",
       "6219    1498   990000       Pune  \n",
       "6220     998   450000       Pune  \n",
       "6221    1496  1000000       Pune  \n",
       "6222    1396   465000       Pune  \n",
       "6223     998   225000       Pune  \n",
       "\n",
       "[6224 rows x 12 columns]"
      ]
     },
     "execution_count": 9,
     "metadata": {},
     "output_type": "execute_result"
    }
   ],
   "source": [
    "data"
   ]
  },
  {
   "cell_type": "code",
   "execution_count": 10,
   "metadata": {},
   "outputs": [
    {
     "data": {
      "text/plain": [
       "Index(['Unnamed: 0', 'Unnamed: 0.1', 'Model', 'Make_Year', 'Driven_Kilometers',\n",
       "       'Fuel', 'Transmission', 'Owner(s)', 'Mileage', 'Engine', 'Price',\n",
       "       'Location'],\n",
       "      dtype='object')"
      ]
     },
     "execution_count": 10,
     "metadata": {},
     "output_type": "execute_result"
    }
   ],
   "source": [
    "data.columns"
   ]
  },
  {
   "cell_type": "code",
   "execution_count": 11,
   "metadata": {},
   "outputs": [],
   "source": [
    "#It contains numbers index that doesn't affect our car price, hence removing this column\n",
    "data = data.drop('Unnamed: 0',axis=1) \n",
    "data = data.drop('Unnamed: 0.1',axis=1) "
   ]
  },
  {
   "cell_type": "code",
   "execution_count": 12,
   "metadata": {},
   "outputs": [
    {
     "data": {
      "text/html": [
       "<div>\n",
       "<style scoped>\n",
       "    .dataframe tbody tr th:only-of-type {\n",
       "        vertical-align: middle;\n",
       "    }\n",
       "\n",
       "    .dataframe tbody tr th {\n",
       "        vertical-align: top;\n",
       "    }\n",
       "\n",
       "    .dataframe thead th {\n",
       "        text-align: right;\n",
       "    }\n",
       "</style>\n",
       "<table border=\"1\" class=\"dataframe\">\n",
       "  <thead>\n",
       "    <tr style=\"text-align: right;\">\n",
       "      <th></th>\n",
       "      <th>Model</th>\n",
       "      <th>Make_Year</th>\n",
       "      <th>Driven_Kilometers</th>\n",
       "      <th>Fuel</th>\n",
       "      <th>Transmission</th>\n",
       "      <th>Owner(s)</th>\n",
       "      <th>Mileage</th>\n",
       "      <th>Engine</th>\n",
       "      <th>Price</th>\n",
       "      <th>Location</th>\n",
       "    </tr>\n",
       "  </thead>\n",
       "  <tbody>\n",
       "    <tr>\n",
       "      <th>0</th>\n",
       "      <td>Maruti Wagon R</td>\n",
       "      <td>2017</td>\n",
       "      <td>41174</td>\n",
       "      <td>Petrol</td>\n",
       "      <td>Automatic</td>\n",
       "      <td>1</td>\n",
       "      <td>20.51</td>\n",
       "      <td>998</td>\n",
       "      <td>430000</td>\n",
       "      <td>Ahmedabad</td>\n",
       "    </tr>\n",
       "    <tr>\n",
       "      <th>1</th>\n",
       "      <td>Hyundai Verna CRDi . AT SX Plus</td>\n",
       "      <td>2017</td>\n",
       "      <td>70000</td>\n",
       "      <td>Diesel</td>\n",
       "      <td>Automatic</td>\n",
       "      <td>1</td>\n",
       "      <td>22.00</td>\n",
       "      <td>1582</td>\n",
       "      <td>894999</td>\n",
       "      <td>Ahmedabad</td>\n",
       "    </tr>\n",
       "    <tr>\n",
       "      <th>2</th>\n",
       "      <td>Audi A  TDI Premium Plus</td>\n",
       "      <td>2018</td>\n",
       "      <td>14667</td>\n",
       "      <td>Diesel</td>\n",
       "      <td>Automatic</td>\n",
       "      <td>1</td>\n",
       "      <td>18.25</td>\n",
       "      <td>1968</td>\n",
       "      <td>3200000</td>\n",
       "      <td>Ahmedabad</td>\n",
       "    </tr>\n",
       "    <tr>\n",
       "      <th>3</th>\n",
       "      <td>Honda City i VTEC CVT VX</td>\n",
       "      <td>2016</td>\n",
       "      <td>55000</td>\n",
       "      <td>Petrol</td>\n",
       "      <td>Automatic</td>\n",
       "      <td>1</td>\n",
       "      <td>18.00</td>\n",
       "      <td>1497</td>\n",
       "      <td>877999</td>\n",
       "      <td>Ahmedabad</td>\n",
       "    </tr>\n",
       "    <tr>\n",
       "      <th>4</th>\n",
       "      <td>Mercedes-Benz E-Class Exclusive E  d BSIV</td>\n",
       "      <td>2019</td>\n",
       "      <td>30486</td>\n",
       "      <td>Diesel</td>\n",
       "      <td>Automatic</td>\n",
       "      <td>1</td>\n",
       "      <td>16.10</td>\n",
       "      <td>1950</td>\n",
       "      <td>4800000</td>\n",
       "      <td>Ahmedabad</td>\n",
       "    </tr>\n",
       "    <tr>\n",
       "      <th>...</th>\n",
       "      <td>...</td>\n",
       "      <td>...</td>\n",
       "      <td>...</td>\n",
       "      <td>...</td>\n",
       "      <td>...</td>\n",
       "      <td>...</td>\n",
       "      <td>...</td>\n",
       "      <td>...</td>\n",
       "      <td>...</td>\n",
       "      <td>...</td>\n",
       "    </tr>\n",
       "    <tr>\n",
       "      <th>6219</th>\n",
       "      <td>Ford EcoSport . Diesel Titanium BSIV</td>\n",
       "      <td>2019</td>\n",
       "      <td>30000</td>\n",
       "      <td>Diesel</td>\n",
       "      <td>Manual</td>\n",
       "      <td>1</td>\n",
       "      <td>23.00</td>\n",
       "      <td>1498</td>\n",
       "      <td>990000</td>\n",
       "      <td>Pune</td>\n",
       "    </tr>\n",
       "    <tr>\n",
       "      <th>6220</th>\n",
       "      <td>Maruti Wagon R VXI Plus</td>\n",
       "      <td>2017</td>\n",
       "      <td>40000</td>\n",
       "      <td>Petrol</td>\n",
       "      <td>Manual</td>\n",
       "      <td>1</td>\n",
       "      <td>20.51</td>\n",
       "      <td>998</td>\n",
       "      <td>450000</td>\n",
       "      <td>Pune</td>\n",
       "    </tr>\n",
       "    <tr>\n",
       "      <th>6221</th>\n",
       "      <td>Toyota Yaris G BSIV</td>\n",
       "      <td>2018</td>\n",
       "      <td>23643</td>\n",
       "      <td>Petrol</td>\n",
       "      <td>Manual</td>\n",
       "      <td>1</td>\n",
       "      <td>17.10</td>\n",
       "      <td>1496</td>\n",
       "      <td>1000000</td>\n",
       "      <td>Pune</td>\n",
       "    </tr>\n",
       "    <tr>\n",
       "      <th>6222</th>\n",
       "      <td>Hyundai Verna . VTVT</td>\n",
       "      <td>2012</td>\n",
       "      <td>69000</td>\n",
       "      <td>Petrol</td>\n",
       "      <td>Manual</td>\n",
       "      <td>1</td>\n",
       "      <td>17.43</td>\n",
       "      <td>1396</td>\n",
       "      <td>465000</td>\n",
       "      <td>Pune</td>\n",
       "    </tr>\n",
       "    <tr>\n",
       "      <th>6223</th>\n",
       "      <td>Maruti Zen Estilo LXI BSIII</td>\n",
       "      <td>2011</td>\n",
       "      <td>67000</td>\n",
       "      <td>Petrol</td>\n",
       "      <td>Manual</td>\n",
       "      <td>1</td>\n",
       "      <td>18.20</td>\n",
       "      <td>998</td>\n",
       "      <td>225000</td>\n",
       "      <td>Pune</td>\n",
       "    </tr>\n",
       "  </tbody>\n",
       "</table>\n",
       "<p>6224 rows × 10 columns</p>\n",
       "</div>"
      ],
      "text/plain": [
       "                                          Model  Make_Year  Driven_Kilometers  \\\n",
       "0                                Maruti Wagon R       2017              41174   \n",
       "1               Hyundai Verna CRDi . AT SX Plus       2017              70000   \n",
       "2                      Audi A  TDI Premium Plus       2018              14667   \n",
       "3                      Honda City i VTEC CVT VX       2016              55000   \n",
       "4     Mercedes-Benz E-Class Exclusive E  d BSIV       2019              30486   \n",
       "...                                         ...        ...                ...   \n",
       "6219       Ford EcoSport . Diesel Titanium BSIV       2019              30000   \n",
       "6220                    Maruti Wagon R VXI Plus       2017              40000   \n",
       "6221                        Toyota Yaris G BSIV       2018              23643   \n",
       "6222                       Hyundai Verna . VTVT       2012              69000   \n",
       "6223                Maruti Zen Estilo LXI BSIII       2011              67000   \n",
       "\n",
       "        Fuel Transmission  Owner(s)  Mileage  Engine    Price   Location  \n",
       "0     Petrol    Automatic         1    20.51     998   430000  Ahmedabad  \n",
       "1     Diesel    Automatic         1    22.00    1582   894999  Ahmedabad  \n",
       "2     Diesel    Automatic         1    18.25    1968  3200000  Ahmedabad  \n",
       "3     Petrol    Automatic         1    18.00    1497   877999  Ahmedabad  \n",
       "4     Diesel    Automatic         1    16.10    1950  4800000  Ahmedabad  \n",
       "...      ...          ...       ...      ...     ...      ...        ...  \n",
       "6219  Diesel       Manual         1    23.00    1498   990000       Pune  \n",
       "6220  Petrol       Manual         1    20.51     998   450000       Pune  \n",
       "6221  Petrol       Manual         1    17.10    1496  1000000       Pune  \n",
       "6222  Petrol       Manual         1    17.43    1396   465000       Pune  \n",
       "6223  Petrol       Manual         1    18.20     998   225000       Pune  \n",
       "\n",
       "[6224 rows x 10 columns]"
      ]
     },
     "execution_count": 12,
     "metadata": {},
     "output_type": "execute_result"
    }
   ],
   "source": [
    "data"
   ]
  },
  {
   "cell_type": "code",
   "execution_count": 13,
   "metadata": {},
   "outputs": [
    {
     "data": {
      "text/plain": [
       "(6224, 10)"
      ]
     },
     "execution_count": 13,
     "metadata": {},
     "output_type": "execute_result"
    }
   ],
   "source": [
    "data.shape"
   ]
  },
  {
   "cell_type": "markdown",
   "metadata": {},
   "source": [
    "## Our dataset \"6224\" Cars(rows) and 10 columns"
   ]
  },
  {
   "cell_type": "code",
   "execution_count": 14,
   "metadata": {},
   "outputs": [
    {
     "name": "stdout",
     "output_type": "stream",
     "text": [
      "<class 'pandas.core.frame.DataFrame'>\n",
      "RangeIndex: 6224 entries, 0 to 6223\n",
      "Data columns (total 10 columns):\n",
      " #   Column             Non-Null Count  Dtype  \n",
      "---  ------             --------------  -----  \n",
      " 0   Model              6224 non-null   object \n",
      " 1   Make_Year          6224 non-null   int64  \n",
      " 2   Driven_Kilometers  6224 non-null   int64  \n",
      " 3   Fuel               6224 non-null   object \n",
      " 4   Transmission       6224 non-null   object \n",
      " 5   Owner(s)           6224 non-null   int64  \n",
      " 6   Mileage            6224 non-null   float64\n",
      " 7   Engine             6224 non-null   int64  \n",
      " 8   Price              6224 non-null   int64  \n",
      " 9   Location           6224 non-null   object \n",
      "dtypes: float64(1), int64(5), object(4)\n",
      "memory usage: 486.4+ KB\n"
     ]
    }
   ],
   "source": [
    "data.info()"
   ]
  },
  {
   "cell_type": "markdown",
   "metadata": {},
   "source": [
    "## The features are of \"Object DataType\" and \"numerical DataType\", the Target column contains \"numerical DataType\""
   ]
  },
  {
   "cell_type": "code",
   "execution_count": 15,
   "metadata": {},
   "outputs": [
    {
     "data": {
      "image/png": "[encoded data removed]",
      "text/plain": [
       "<Figure size 864x576 with 2 Axes>"
      ]
     },
     "metadata": {
      "needs_background": "light"
     },
     "output_type": "display_data"
    }
   ],
   "source": [
    "#Let's visualize to check the nullvalues in our dataset\n",
    "\n",
    "plt.figure(figsize = [12,8])\n",
    "sns.heatmap(data.isnull())\n",
    "plt.title('Null Values')\n",
    "plt.show()"
   ]
  },
  {
   "cell_type": "markdown",
   "metadata": {},
   "source": [
    "## Observation:"
   ]
  },
  {
   "cell_type": "markdown",
   "metadata": {},
   "source": [
    "We can clearly see that there is no null values in our dataset\n",
    "\n"
   ]
  },
  {
   "cell_type": "code",
   "execution_count": 16,
   "metadata": {},
   "outputs": [
    {
     "data": {
      "text/plain": [
       "Model                 object\n",
       "Make_Year              int64\n",
       "Driven_Kilometers      int64\n",
       "Fuel                  object\n",
       "Transmission          object\n",
       "Owner(s)               int64\n",
       "Mileage              float64\n",
       "Engine                 int64\n",
       "Price                  int64\n",
       "Location              object\n",
       "dtype: object"
      ]
     },
     "execution_count": 16,
     "metadata": {},
     "output_type": "execute_result"
    }
   ],
   "source": [
    "data.dtypes"
   ]
  },
  {
   "cell_type": "code",
   "execution_count": 17,
   "metadata": {},
   "outputs": [
    {
     "data": {
      "text/html": [
       "<div>\n",
       "<style scoped>\n",
       "    .dataframe tbody tr th:only-of-type {\n",
       "        vertical-align: middle;\n",
       "    }\n",
       "\n",
       "    .dataframe tbody tr th {\n",
       "        vertical-align: top;\n",
       "    }\n",
       "\n",
       "    .dataframe thead th {\n",
       "        text-align: right;\n",
       "    }\n",
       "</style>\n",
       "<table border=\"1\" class=\"dataframe\">\n",
       "  <thead>\n",
       "    <tr style=\"text-align: right;\">\n",
       "      <th></th>\n",
       "      <th>Make_Year</th>\n",
       "      <th>Driven_Kilometers</th>\n",
       "      <th>Owner(s)</th>\n",
       "      <th>Mileage</th>\n",
       "      <th>Engine</th>\n",
       "      <th>Price</th>\n",
       "    </tr>\n",
       "  </thead>\n",
       "  <tbody>\n",
       "    <tr>\n",
       "      <th>count</th>\n",
       "      <td>6224.000000</td>\n",
       "      <td>6224.000000</td>\n",
       "      <td>6224.000000</td>\n",
       "      <td>6224.000000</td>\n",
       "      <td>6224.000000</td>\n",
       "      <td>6.224000e+03</td>\n",
       "    </tr>\n",
       "    <tr>\n",
       "      <th>mean</th>\n",
       "      <td>2014.862789</td>\n",
       "      <td>58242.295148</td>\n",
       "      <td>1.214653</td>\n",
       "      <td>19.957942</td>\n",
       "      <td>1405.529724</td>\n",
       "      <td>7.030040e+05</td>\n",
       "    </tr>\n",
       "    <tr>\n",
       "      <th>std</th>\n",
       "      <td>3.056772</td>\n",
       "      <td>37702.893801</td>\n",
       "      <td>0.467354</td>\n",
       "      <td>3.872215</td>\n",
       "      <td>467.313843</td>\n",
       "      <td>7.639553e+05</td>\n",
       "    </tr>\n",
       "    <tr>\n",
       "      <th>min</th>\n",
       "      <td>2000.000000</td>\n",
       "      <td>500.000000</td>\n",
       "      <td>1.000000</td>\n",
       "      <td>7.500000</td>\n",
       "      <td>624.000000</td>\n",
       "      <td>4.500000e+04</td>\n",
       "    </tr>\n",
       "    <tr>\n",
       "      <th>25%</th>\n",
       "      <td>2013.000000</td>\n",
       "      <td>32119.250000</td>\n",
       "      <td>1.000000</td>\n",
       "      <td>17.400000</td>\n",
       "      <td>1197.000000</td>\n",
       "      <td>3.550000e+05</td>\n",
       "    </tr>\n",
       "    <tr>\n",
       "      <th>50%</th>\n",
       "      <td>2015.000000</td>\n",
       "      <td>55000.000000</td>\n",
       "      <td>1.000000</td>\n",
       "      <td>20.140000</td>\n",
       "      <td>1248.000000</td>\n",
       "      <td>5.000000e+05</td>\n",
       "    </tr>\n",
       "    <tr>\n",
       "      <th>75%</th>\n",
       "      <td>2017.000000</td>\n",
       "      <td>77072.250000</td>\n",
       "      <td>1.000000</td>\n",
       "      <td>22.540000</td>\n",
       "      <td>1498.000000</td>\n",
       "      <td>7.000000e+05</td>\n",
       "    </tr>\n",
       "    <tr>\n",
       "      <th>max</th>\n",
       "      <td>2021.000000</td>\n",
       "      <td>886253.000000</td>\n",
       "      <td>4.000000</td>\n",
       "      <td>36.000000</td>\n",
       "      <td>5000.000000</td>\n",
       "      <td>9.100000e+06</td>\n",
       "    </tr>\n",
       "  </tbody>\n",
       "</table>\n",
       "</div>"
      ],
      "text/plain": [
       "         Make_Year  Driven_Kilometers     Owner(s)      Mileage       Engine  \\\n",
       "count  6224.000000        6224.000000  6224.000000  6224.000000  6224.000000   \n",
       "mean   2014.862789       58242.295148     1.214653    19.957942  1405.529724   \n",
       "std       3.056772       37702.893801     0.467354     3.872215   467.313843   \n",
       "min    2000.000000         500.000000     1.000000     7.500000   624.000000   \n",
       "25%    2013.000000       32119.250000     1.000000    17.400000  1197.000000   \n",
       "50%    2015.000000       55000.000000     1.000000    20.140000  1248.000000   \n",
       "75%    2017.000000       77072.250000     1.000000    22.540000  1498.000000   \n",
       "max    2021.000000      886253.000000     4.000000    36.000000  5000.000000   \n",
       "\n",
       "              Price  \n",
       "count  6.224000e+03  \n",
       "mean   7.030040e+05  \n",
       "std    7.639553e+05  \n",
       "min    4.500000e+04  \n",
       "25%    3.550000e+05  \n",
       "50%    5.000000e+05  \n",
       "75%    7.000000e+05  \n",
       "max    9.100000e+06  "
      ]
     },
     "execution_count": 17,
     "metadata": {},
     "output_type": "execute_result"
    }
   ],
   "source": [
    "data.describe()"
   ]
  },
  {
   "cell_type": "markdown",
   "metadata": {},
   "source": [
    "'Driven_Kilometers' and 'Engine', We see that there is disturbancy comparatively in our Mean and Median and \"mean v/s std\"\n",
    "Hence, we would need to check for the outliers and remove them"
   ]
  },
  {
   "cell_type": "markdown",
   "metadata": {},
   "source": [
    "## EDA(Exploratory Data Analysis)"
   ]
  },
  {
   "cell_type": "markdown",
   "metadata": {},
   "source": [
    "Let us explore our data and visualize it\n",
    "\n",
    "## Univariate Analysis"
   ]
  },
  {
   "cell_type": "code",
   "execution_count": 18,
   "metadata": {},
   "outputs": [
    {
     "data": {
      "image/png": "[encoded data removed]",
      "text/plain": [
       "<Figure size 576x396 with 1 Axes>"
      ]
     },
     "metadata": {},
     "output_type": "display_data"
    }
   ],
   "source": [
    "#Let's check the Target column : \"Price\"\n",
    "\n",
    "plt.style.use('seaborn')\n",
    "sns.distplot(data['Price'])\n",
    "plt.show()\n"
   ]
  },
  {
   "cell_type": "markdown",
   "metadata": {},
   "source": [
    "Price column is not normally distributed\n",
    "we have some of the car prices with a high price than normal"
   ]
  },
  {
   "cell_type": "code",
   "execution_count": 19,
   "metadata": {},
   "outputs": [
    {
     "data": {
      "image/png": "[encoded data removed]",
      "text/plain": [
       "<Figure size 576x396 with 1 Axes>"
      ]
     },
     "metadata": {},
     "output_type": "display_data"
    }
   ],
   "source": [
    "sns.countplot(x = 'Transmission', data = data)\n",
    "plt.show()"
   ]
  },
  {
   "cell_type": "code",
   "execution_count": 20,
   "metadata": {},
   "outputs": [
    {
     "data": {
      "text/plain": [
       "<matplotlib.axes._subplots.AxesSubplot at 0x1eaff2b7100>"
      ]
     },
     "execution_count": 20,
     "metadata": {},
     "output_type": "execute_result"
    },
    {
     "data": {
      "image/png": "[encoded data removed]",
      "text/plain": [
       "<Figure size 576x396 with 1 Axes>"
      ]
     },
     "metadata": {},
     "output_type": "display_data"
    }
   ],
   "source": [
    "sns.countplot(x = 'Fuel', data = data)"
   ]
  },
  {
   "cell_type": "code",
   "execution_count": 21,
   "metadata": {},
   "outputs": [
    {
     "data": {
      "image/png": "[encoded data removed]",
      "text/plain": [
       "<Figure size 576x396 with 1 Axes>"
      ]
     },
     "metadata": {},
     "output_type": "display_data"
    }
   ],
   "source": [
    "sns.countplot(x = 'Make_Year', data = data)\n",
    "plt.show()"
   ]
  },
  {
   "cell_type": "markdown",
   "metadata": {},
   "source": [
    "#### Bivariate Analysis"
   ]
  },
  {
   "cell_type": "code",
   "execution_count": 22,
   "metadata": {},
   "outputs": [
    {
     "data": {
      "image/png": "[encoded data removed]",
      "text/plain": [
       "<Figure size 864x432 with 1 Axes>"
      ]
     },
     "metadata": {},
     "output_type": "display_data"
    }
   ],
   "source": [
    "# Relation between Airline and Flight Price\n",
    "\n",
    "sns.catplot(y = 'Price', x = 'Transmission',data= data.sort_values(\"Price\", ascending = False), \n",
    "            kind = \"boxen\", height = 6, aspect = 2)\n",
    "\n",
    "plt.tight_layout\n",
    "plt.show()"
   ]
  },
  {
   "cell_type": "code",
   "execution_count": 23,
   "metadata": {},
   "outputs": [
    {
     "data": {
      "image/png": "[encoded data removed]",
      "text/plain": [
       "<Figure size 864x432 with 1 Axes>"
      ]
     },
     "metadata": {},
     "output_type": "display_data"
    }
   ],
   "source": [
    "# Relation between Airline and Flight Price\n",
    "\n",
    "sns.catplot(y = 'Price', x = 'Fuel',data= data.sort_values(\"Price\", ascending = False), \n",
    "            kind = \"boxen\", height = 6, aspect = 2)\n",
    "\n",
    "plt.tight_layout\n",
    "plt.show()"
   ]
  },
  {
   "cell_type": "code",
   "execution_count": 24,
   "metadata": {},
   "outputs": [
    {
     "data": {
      "image/png": "[encoded data removed]",
      "text/plain": [
       "<Figure size 864x432 with 1 Axes>"
      ]
     },
     "metadata": {},
     "output_type": "display_data"
    }
   ],
   "source": [
    "# Relation between Airline and Flight Price\n",
    "\n",
    "sns.catplot(y = 'Price', x = 'Make_Year',data= data.sort_values(\"Price\", ascending = False), \n",
    "            kind = \"boxen\", height = 6, aspect = 2)\n",
    "\n",
    "plt.tight_layout\n",
    "plt.show()"
   ]
  },
  {
   "cell_type": "markdown",
   "metadata": {},
   "source": [
    "## Multivariate Analysis"
   ]
  },
  {
   "cell_type": "code",
   "execution_count": 25,
   "metadata": {},
   "outputs": [
    {
     "data": {
      "image/png": "[encoded data removed]",
      "text/plain": [
       "<Figure size 1080x576 with 2 Axes>"
      ]
     },
     "metadata": {},
     "output_type": "display_data"
    }
   ],
   "source": [
    "#Let's check the correlation by using the Heatmap (in order to check teh relation between features)\n",
    "\n",
    "plt.figure(figsize=(15,8))\n",
    "sns.heatmap(data.corr(),cmap='YlGnBu',annot = True)\n",
    "plt.show()"
   ]
  },
  {
   "cell_type": "code",
   "execution_count": 26,
   "metadata": {},
   "outputs": [
    {
     "data": {
      "text/html": [
       "<div>\n",
       "<style scoped>\n",
       "    .dataframe tbody tr th:only-of-type {\n",
       "        vertical-align: middle;\n",
       "    }\n",
       "\n",
       "    .dataframe tbody tr th {\n",
       "        vertical-align: top;\n",
       "    }\n",
       "\n",
       "    .dataframe thead th {\n",
       "        text-align: right;\n",
       "    }\n",
       "</style>\n",
       "<table border=\"1\" class=\"dataframe\">\n",
       "  <thead>\n",
       "    <tr style=\"text-align: right;\">\n",
       "      <th></th>\n",
       "      <th>Make_Year</th>\n",
       "      <th>Driven_Kilometers</th>\n",
       "      <th>Owner(s)</th>\n",
       "      <th>Mileage</th>\n",
       "      <th>Engine</th>\n",
       "      <th>Price</th>\n",
       "    </tr>\n",
       "  </thead>\n",
       "  <tbody>\n",
       "    <tr>\n",
       "      <th>Make_Year</th>\n",
       "      <td>1.000000</td>\n",
       "      <td>-0.467516</td>\n",
       "      <td>-0.338092</td>\n",
       "      <td>0.258220</td>\n",
       "      <td>-0.102814</td>\n",
       "      <td>0.278047</td>\n",
       "    </tr>\n",
       "    <tr>\n",
       "      <th>Driven_Kilometers</th>\n",
       "      <td>-0.467516</td>\n",
       "      <td>1.000000</td>\n",
       "      <td>0.193648</td>\n",
       "      <td>-0.106689</td>\n",
       "      <td>0.268711</td>\n",
       "      <td>-0.100129</td>\n",
       "    </tr>\n",
       "    <tr>\n",
       "      <th>Owner(s)</th>\n",
       "      <td>-0.338092</td>\n",
       "      <td>0.193648</td>\n",
       "      <td>1.000000</td>\n",
       "      <td>-0.159762</td>\n",
       "      <td>0.110342</td>\n",
       "      <td>-0.064697</td>\n",
       "    </tr>\n",
       "    <tr>\n",
       "      <th>Mileage</th>\n",
       "      <td>0.258220</td>\n",
       "      <td>-0.106689</td>\n",
       "      <td>-0.159762</td>\n",
       "      <td>1.000000</td>\n",
       "      <td>-0.582179</td>\n",
       "      <td>-0.335218</td>\n",
       "    </tr>\n",
       "    <tr>\n",
       "      <th>Engine</th>\n",
       "      <td>-0.102814</td>\n",
       "      <td>0.268711</td>\n",
       "      <td>0.110342</td>\n",
       "      <td>-0.582179</td>\n",
       "      <td>1.000000</td>\n",
       "      <td>0.638122</td>\n",
       "    </tr>\n",
       "    <tr>\n",
       "      <th>Price</th>\n",
       "      <td>0.278047</td>\n",
       "      <td>-0.100129</td>\n",
       "      <td>-0.064697</td>\n",
       "      <td>-0.335218</td>\n",
       "      <td>0.638122</td>\n",
       "      <td>1.000000</td>\n",
       "    </tr>\n",
       "  </tbody>\n",
       "</table>\n",
       "</div>"
      ],
      "text/plain": [
       "                   Make_Year  Driven_Kilometers  Owner(s)   Mileage    Engine  \\\n",
       "Make_Year           1.000000          -0.467516 -0.338092  0.258220 -0.102814   \n",
       "Driven_Kilometers  -0.467516           1.000000  0.193648 -0.106689  0.268711   \n",
       "Owner(s)           -0.338092           0.193648  1.000000 -0.159762  0.110342   \n",
       "Mileage             0.258220          -0.106689 -0.159762  1.000000 -0.582179   \n",
       "Engine             -0.102814           0.268711  0.110342 -0.582179  1.000000   \n",
       "Price               0.278047          -0.100129 -0.064697 -0.335218  0.638122   \n",
       "\n",
       "                      Price  \n",
       "Make_Year          0.278047  \n",
       "Driven_Kilometers -0.100129  \n",
       "Owner(s)          -0.064697  \n",
       "Mileage           -0.335218  \n",
       "Engine             0.638122  \n",
       "Price              1.000000  "
      ]
     },
     "execution_count": 26,
     "metadata": {},
     "output_type": "execute_result"
    }
   ],
   "source": [
    "data.corr()"
   ]
  },
  {
   "cell_type": "markdown",
   "metadata": {},
   "source": [
    "We see,\n",
    "\n",
    "the largest correlated features are \"Engine\" and \"Price\" with correlated values: \"0.64\"\n",
    "the lowest correlated features are \"Owner(s)\" and \"Price\" with correlated values: \"-0.065\""
   ]
  },
  {
   "cell_type": "markdown",
   "metadata": {},
   "source": [
    "### Data PreProcessing\n",
    "\n",
    "let's check for the outliers and remove the skewness"
   ]
  },
  {
   "cell_type": "code",
   "execution_count": 27,
   "metadata": {},
   "outputs": [
    {
     "data": {
      "text/plain": [
       "<Figure size 576x396 with 0 Axes>"
      ]
     },
     "metadata": {},
     "output_type": "display_data"
    },
    {
     "data": {
      "image/png": "[encoded data removed]",
      "text/plain": [
       "<Figure size 1080x432 with 1 Axes>"
      ]
     },
     "metadata": {},
     "output_type": "display_data"
    },
    {
     "data": {
      "image/png": "[encoded data removed]",
      "text/plain": [
       "<Figure size 1080x432 with 1 Axes>"
      ]
     },
     "metadata": {},
     "output_type": "display_data"
    },
    {
     "data": {
      "image/png": "[encoded data removed]",
      "text/plain": [
       "<Figure size 1080x432 with 1 Axes>"
      ]
     },
     "metadata": {},
     "output_type": "display_data"
    }
   ],
   "source": [
    "#Normal Distribution plotting\n",
    "\n",
    "columns = ['Driven_Kilometers', 'Mileage', 'Engine'] #with numerical data\n",
    "\n",
    "plt.tight_layout()\n",
    "for i in columns:\n",
    "    plt.figure(figsize=[15,6])\n",
    "    sns.distplot(data[i])\n",
    "    plt.xlabel(i,fontsize=15)\n",
    "plt.show()"
   ]
  },
  {
   "cell_type": "code",
   "execution_count": 28,
   "metadata": {},
   "outputs": [
    {
     "data": {
      "text/plain": [
       "<Figure size 576x396 with 0 Axes>"
      ]
     },
     "metadata": {},
     "output_type": "display_data"
    },
    {
     "data": {
      "image/png": "[encoded data removed]",
      "text/plain": [
       "<Figure size 1080x432 with 1 Axes>"
      ]
     },
     "metadata": {},
     "output_type": "display_data"
    },
    {
     "data": {
      "image/png": "[encoded data removed]",
      "text/plain": [
       "<Figure size 1080x432 with 1 Axes>"
      ]
     },
     "metadata": {},
     "output_type": "display_data"
    },
    {
     "data": {
      "image/png": "[encoded data removed]",
      "text/plain": [
       "<Figure size 1080x432 with 1 Axes>"
      ]
     },
     "metadata": {},
     "output_type": "display_data"
    }
   ],
   "source": [
    "# Using Boxplot to checkthe outliers\n",
    "\n",
    "columns = ['Driven_Kilometers', 'Mileage', 'Engine']\n",
    "\n",
    "plt.tight_layout()\n",
    "for i in columns:\n",
    "    plt.figure(figsize=[15,6])\n",
    "    sns.boxplot(data[i],color = 'Purple')\n",
    "    plt.xlabel(i,fontsize=15)\n",
    "plt.show()"
   ]
  },
  {
   "cell_type": "code",
   "execution_count": 29,
   "metadata": {},
   "outputs": [],
   "source": [
    "features = ['Driven_Kilometers', 'Mileage', 'Engine']"
   ]
  },
  {
   "cell_type": "markdown",
   "metadata": {},
   "source": [
    "Let's remove these outliers\n",
    "\n",
    "### Applying IQR Method"
   ]
  },
  {
   "cell_type": "code",
   "execution_count": 30,
   "metadata": {},
   "outputs": [],
   "source": [
    "Q1 = data[features].quantile(0.25)\n",
    "Q3 = data[features].quantile(0.75)\n",
    "IQR = Q3-Q1\n",
    "\n",
    "data_new1 = data[~((data[features] < (Q1-1.5*IQR)) | (data[features]> (Q3 + 1.5*Q3))).any(axis = 1)]"
   ]
  },
  {
   "cell_type": "code",
   "execution_count": 31,
   "metadata": {},
   "outputs": [
    {
     "name": "stdout",
     "output_type": "stream",
     "text": [
      "Shape - Before and After:\n",
      "\n",
      "Shape Before         : (6224, 10)\n",
      "Shape After          : (6160, 10)\n",
      "Percentage Loss      : 1.0282776349614395\n"
     ]
    }
   ],
   "source": [
    "print('Shape - Before and After:\\n')\n",
    "print('Shape Before'.ljust(20),\":\",data.shape)\n",
    "print('Shape After'.ljust(20),\":\",data_new1.shape)\n",
    "print('Percentage Loss'.ljust(20),\":\",((data.shape[0]-data_new1.shape[0])/data.shape[0])*100)"
   ]
  },
  {
   "cell_type": "markdown",
   "metadata": {},
   "source": [
    "### Applying z-score Method"
   ]
  },
  {
   "cell_type": "code",
   "execution_count": 32,
   "metadata": {},
   "outputs": [],
   "source": [
    "from scipy.stats import zscore  #importing zscore from library\n",
    "\n",
    "z=np.abs(zscore(data[features]))\n",
    "threshold = 3\n",
    "data_new2 = data[(z<3).all(axis=1)]"
   ]
  },
  {
   "cell_type": "code",
   "execution_count": 33,
   "metadata": {},
   "outputs": [
    {
     "name": "stdout",
     "output_type": "stream",
     "text": [
      "Shape - Before and After:\n",
      "\n",
      "Shape Before         : (6224, 10)\n",
      "Shape After          : (6017, 10)\n",
      "Percentage Loss      : 3.3258354755784065\n"
     ]
    }
   ],
   "source": [
    "print('Shape - Before and After:\\n')\n",
    "print('Shape Before'.ljust(20),\":\",data.shape)\n",
    "print('Shape After'.ljust(20),\":\",data_new2.shape)\n",
    "print('Percentage Loss'.ljust(20),\":\",((data.shape[0]-data_new2.shape[0])/data.shape[0])*100)"
   ]
  },
  {
   "cell_type": "markdown",
   "metadata": {},
   "source": [
    "### Observation:\n",
    "\n",
    "(IQR Method)Percentage Loss : 1.0282776349614395 %\n",
    "\n",
    "(z-score Method) Percentage Loss : 3.3258354755784065 %\n",
    "\n",
    "Percentage of data loss is less after applying IQR technique. So, let's proceed with IQR method"
   ]
  },
  {
   "cell_type": "code",
   "execution_count": 34,
   "metadata": {},
   "outputs": [],
   "source": [
    "data_new = data_new1.copy()"
   ]
  },
  {
   "cell_type": "markdown",
   "metadata": {},
   "source": [
    "### Skewness"
   ]
  },
  {
   "cell_type": "markdown",
   "metadata": {},
   "source": [
    "Let's check for the skewness in our dataset"
   ]
  },
  {
   "cell_type": "code",
   "execution_count": 35,
   "metadata": {},
   "outputs": [
    {
     "data": {
      "text/plain": [
       "Make_Year           -0.611178\n",
       "Driven_Kilometers    3.696483\n",
       "Owner(s)             2.253673\n",
       "Mileage              0.003963\n",
       "Engine               2.017822\n",
       "Price                4.320026\n",
       "dtype: float64"
      ]
     },
     "execution_count": 35,
     "metadata": {},
     "output_type": "execute_result"
    }
   ],
   "source": [
    "#Skewness before applying the outliers technique\n",
    "\n",
    "data.skew()"
   ]
  },
  {
   "cell_type": "code",
   "execution_count": 36,
   "metadata": {},
   "outputs": [
    {
     "data": {
      "text/plain": [
       "Make_Year           -0.611907\n",
       "Driven_Kilometers    0.701490\n",
       "Owner(s)             2.244314\n",
       "Mileage              0.012334\n",
       "Engine               1.738002\n",
       "Price                4.160594\n",
       "dtype: float64"
      ]
     },
     "execution_count": 36,
     "metadata": {},
     "output_type": "execute_result"
    }
   ],
   "source": [
    "#Skewness after applying the outliers technique\n",
    "\n",
    "data_new.skew()"
   ]
  },
  {
   "cell_type": "markdown",
   "metadata": {},
   "source": [
    "Skewness is more in the columns:\n",
    "\n",
    "\"Driven_Kilometers\" and \"Engine\"\n",
    "\n",
    "\"Make_Year\" and \"Owner(s)\" are ordinal data so skewness are ignored\n",
    "\"Price\" target variable so skewness is ignored"
   ]
  },
  {
   "cell_type": "code",
   "execution_count": 37,
   "metadata": {},
   "outputs": [],
   "source": [
    "data_new['Driven_Kilometers'] = np.sqrt(data_new['Driven_Kilometers'])\n",
    "\n",
    "data_new['Engine'] = np.log(data_new['Engine'])\n",
    "data_new['Engine'] = np.cbrt(data_new['Engine'])\n",
    "data_new['Engine'] = np.sqrt(data_new['Engine'])"
   ]
  },
  {
   "cell_type": "code",
   "execution_count": 38,
   "metadata": {},
   "outputs": [
    {
     "data": {
      "text/plain": [
       "Make_Year           -0.611907\n",
       "Driven_Kilometers   -0.130465\n",
       "Owner(s)             2.244314\n",
       "Mileage              0.012334\n",
       "Engine               0.746089\n",
       "Price                4.160594\n",
       "dtype: float64"
      ]
     },
     "execution_count": 38,
     "metadata": {},
     "output_type": "execute_result"
    }
   ],
   "source": [
    "data_new.skew()"
   ]
  },
  {
   "cell_type": "markdown",
   "metadata": {},
   "source": [
    "We have removed the maximum skewness from our dataset"
   ]
  },
  {
   "cell_type": "code",
   "execution_count": 40,
   "metadata": {},
   "outputs": [
    {
     "data": {
      "text/html": [
       "<div>\n",
       "<style scoped>\n",
       "    .dataframe tbody tr th:only-of-type {\n",
       "        vertical-align: middle;\n",
       "    }\n",
       "\n",
       "    .dataframe tbody tr th {\n",
       "        vertical-align: top;\n",
       "    }\n",
       "\n",
       "    .dataframe thead th {\n",
       "        text-align: right;\n",
       "    }\n",
       "</style>\n",
       "<table border=\"1\" class=\"dataframe\">\n",
       "  <thead>\n",
       "    <tr style=\"text-align: right;\">\n",
       "      <th></th>\n",
       "      <th>Brand</th>\n",
       "    </tr>\n",
       "    <tr>\n",
       "      <th>Index</th>\n",
       "      <th></th>\n",
       "    </tr>\n",
       "  </thead>\n",
       "  <tbody>\n",
       "    <tr>\n",
       "      <th>0</th>\n",
       "      <td>Maruti</td>\n",
       "    </tr>\n",
       "    <tr>\n",
       "      <th>1</th>\n",
       "      <td>Hyundai</td>\n",
       "    </tr>\n",
       "    <tr>\n",
       "      <th>2</th>\n",
       "      <td>Audi</td>\n",
       "    </tr>\n",
       "    <tr>\n",
       "      <th>3</th>\n",
       "      <td>Honda</td>\n",
       "    </tr>\n",
       "    <tr>\n",
       "      <th>4</th>\n",
       "      <td>Mercedes-Benz</td>\n",
       "    </tr>\n",
       "    <tr>\n",
       "      <th>...</th>\n",
       "      <td>...</td>\n",
       "    </tr>\n",
       "    <tr>\n",
       "      <th>6155</th>\n",
       "      <td>Ford</td>\n",
       "    </tr>\n",
       "    <tr>\n",
       "      <th>6156</th>\n",
       "      <td>Maruti</td>\n",
       "    </tr>\n",
       "    <tr>\n",
       "      <th>6157</th>\n",
       "      <td>Toyota</td>\n",
       "    </tr>\n",
       "    <tr>\n",
       "      <th>6158</th>\n",
       "      <td>Hyundai</td>\n",
       "    </tr>\n",
       "    <tr>\n",
       "      <th>6159</th>\n",
       "      <td>Maruti</td>\n",
       "    </tr>\n",
       "  </tbody>\n",
       "</table>\n",
       "<p>6160 rows × 1 columns</p>\n",
       "</div>"
      ],
      "text/plain": [
       "               Brand\n",
       "Index               \n",
       "0             Maruti\n",
       "1            Hyundai\n",
       "2               Audi\n",
       "3              Honda\n",
       "4      Mercedes-Benz\n",
       "...              ...\n",
       "6155            Ford\n",
       "6156          Maruti\n",
       "6157          Toyota\n",
       "6158         Hyundai\n",
       "6159          Maruti\n",
       "\n",
       "[6160 rows x 1 columns]"
      ]
     },
     "execution_count": 40,
     "metadata": {},
     "output_type": "execute_result"
    }
   ],
   "source": [
    "# Create a dataframe that will contain the Brands (by extracting the name from the title of the model column)\n",
    "\n",
    "df1 = {}\n",
    "df1 = pd.DataFrame(data_new['Model'].str.split().tolist(), columns=\"Brand Models A B C D E F G H\".split())\n",
    "df1 = df1.drop(columns=['Models','A','B','C','D','E','F','G','H'],axis=1)\n",
    "\n",
    "\n",
    "df1['Index'] = range(6160) \n",
    "\n",
    "\n",
    "df1.set_index('Index',inplace=True)#ssigning the index column\n",
    "df1"
   ]
  },
  {
   "cell_type": "code",
   "execution_count": 41,
   "metadata": {},
   "outputs": [
    {
     "data": {
      "text/html": [
       "<div>\n",
       "<style scoped>\n",
       "    .dataframe tbody tr th:only-of-type {\n",
       "        vertical-align: middle;\n",
       "    }\n",
       "\n",
       "    .dataframe tbody tr th {\n",
       "        vertical-align: top;\n",
       "    }\n",
       "\n",
       "    .dataframe thead th {\n",
       "        text-align: right;\n",
       "    }\n",
       "</style>\n",
       "<table border=\"1\" class=\"dataframe\">\n",
       "  <thead>\n",
       "    <tr style=\"text-align: right;\">\n",
       "      <th></th>\n",
       "      <th>Model</th>\n",
       "      <th>Make_Year</th>\n",
       "      <th>Driven_Kilometers</th>\n",
       "      <th>Fuel</th>\n",
       "      <th>Transmission</th>\n",
       "      <th>Owner(s)</th>\n",
       "      <th>Mileage</th>\n",
       "      <th>Engine</th>\n",
       "      <th>Price</th>\n",
       "      <th>Location</th>\n",
       "    </tr>\n",
       "    <tr>\n",
       "      <th>Index</th>\n",
       "      <th></th>\n",
       "      <th></th>\n",
       "      <th></th>\n",
       "      <th></th>\n",
       "      <th></th>\n",
       "      <th></th>\n",
       "      <th></th>\n",
       "      <th></th>\n",
       "      <th></th>\n",
       "      <th></th>\n",
       "    </tr>\n",
       "  </thead>\n",
       "  <tbody>\n",
       "    <tr>\n",
       "      <th>0</th>\n",
       "      <td>Maruti Wagon R</td>\n",
       "      <td>2017</td>\n",
       "      <td>202.913775</td>\n",
       "      <td>Petrol</td>\n",
       "      <td>Automatic</td>\n",
       "      <td>1</td>\n",
       "      <td>20.51</td>\n",
       "      <td>1.379966</td>\n",
       "      <td>430000</td>\n",
       "      <td>Ahmedabad</td>\n",
       "    </tr>\n",
       "    <tr>\n",
       "      <th>1</th>\n",
       "      <td>Hyundai Verna CRDi . AT SX Plus</td>\n",
       "      <td>2017</td>\n",
       "      <td>264.575131</td>\n",
       "      <td>Diesel</td>\n",
       "      <td>Automatic</td>\n",
       "      <td>1</td>\n",
       "      <td>22.00</td>\n",
       "      <td>1.394900</td>\n",
       "      <td>894999</td>\n",
       "      <td>Ahmedabad</td>\n",
       "    </tr>\n",
       "    <tr>\n",
       "      <th>2</th>\n",
       "      <td>Audi A  TDI Premium Plus</td>\n",
       "      <td>2018</td>\n",
       "      <td>121.107390</td>\n",
       "      <td>Diesel</td>\n",
       "      <td>Automatic</td>\n",
       "      <td>1</td>\n",
       "      <td>18.25</td>\n",
       "      <td>1.401707</td>\n",
       "      <td>3200000</td>\n",
       "      <td>Ahmedabad</td>\n",
       "    </tr>\n",
       "    <tr>\n",
       "      <th>3</th>\n",
       "      <td>Honda City i VTEC CVT VX</td>\n",
       "      <td>2016</td>\n",
       "      <td>234.520788</td>\n",
       "      <td>Petrol</td>\n",
       "      <td>Automatic</td>\n",
       "      <td>1</td>\n",
       "      <td>18.00</td>\n",
       "      <td>1.393151</td>\n",
       "      <td>877999</td>\n",
       "      <td>Ahmedabad</td>\n",
       "    </tr>\n",
       "    <tr>\n",
       "      <th>4</th>\n",
       "      <td>Mercedes-Benz E-Class Exclusive E  d BSIV</td>\n",
       "      <td>2019</td>\n",
       "      <td>174.602405</td>\n",
       "      <td>Diesel</td>\n",
       "      <td>Automatic</td>\n",
       "      <td>1</td>\n",
       "      <td>16.10</td>\n",
       "      <td>1.401423</td>\n",
       "      <td>4800000</td>\n",
       "      <td>Ahmedabad</td>\n",
       "    </tr>\n",
       "    <tr>\n",
       "      <th>...</th>\n",
       "      <td>...</td>\n",
       "      <td>...</td>\n",
       "      <td>...</td>\n",
       "      <td>...</td>\n",
       "      <td>...</td>\n",
       "      <td>...</td>\n",
       "      <td>...</td>\n",
       "      <td>...</td>\n",
       "      <td>...</td>\n",
       "      <td>...</td>\n",
       "    </tr>\n",
       "    <tr>\n",
       "      <th>6155</th>\n",
       "      <td>Ford EcoSport . Diesel Titanium BSIV</td>\n",
       "      <td>2019</td>\n",
       "      <td>173.205081</td>\n",
       "      <td>Diesel</td>\n",
       "      <td>Manual</td>\n",
       "      <td>1</td>\n",
       "      <td>23.00</td>\n",
       "      <td>1.393173</td>\n",
       "      <td>990000</td>\n",
       "      <td>Pune</td>\n",
       "    </tr>\n",
       "    <tr>\n",
       "      <th>6156</th>\n",
       "      <td>Maruti Wagon R VXI Plus</td>\n",
       "      <td>2017</td>\n",
       "      <td>200.000000</td>\n",
       "      <td>Petrol</td>\n",
       "      <td>Manual</td>\n",
       "      <td>1</td>\n",
       "      <td>20.51</td>\n",
       "      <td>1.379966</td>\n",
       "      <td>450000</td>\n",
       "      <td>Pune</td>\n",
       "    </tr>\n",
       "    <tr>\n",
       "      <th>6157</th>\n",
       "      <td>Toyota Yaris G BSIV</td>\n",
       "      <td>2018</td>\n",
       "      <td>153.762804</td>\n",
       "      <td>Petrol</td>\n",
       "      <td>Manual</td>\n",
       "      <td>1</td>\n",
       "      <td>17.10</td>\n",
       "      <td>1.393130</td>\n",
       "      <td>1000000</td>\n",
       "      <td>Pune</td>\n",
       "    </tr>\n",
       "    <tr>\n",
       "      <th>6158</th>\n",
       "      <td>Hyundai Verna . VTVT</td>\n",
       "      <td>2012</td>\n",
       "      <td>262.678511</td>\n",
       "      <td>Petrol</td>\n",
       "      <td>Manual</td>\n",
       "      <td>1</td>\n",
       "      <td>17.43</td>\n",
       "      <td>1.390924</td>\n",
       "      <td>465000</td>\n",
       "      <td>Pune</td>\n",
       "    </tr>\n",
       "    <tr>\n",
       "      <th>6159</th>\n",
       "      <td>Maruti Zen Estilo LXI BSIII</td>\n",
       "      <td>2011</td>\n",
       "      <td>258.843582</td>\n",
       "      <td>Petrol</td>\n",
       "      <td>Manual</td>\n",
       "      <td>1</td>\n",
       "      <td>18.20</td>\n",
       "      <td>1.379966</td>\n",
       "      <td>225000</td>\n",
       "      <td>Pune</td>\n",
       "    </tr>\n",
       "  </tbody>\n",
       "</table>\n",
       "<p>6160 rows × 10 columns</p>\n",
       "</div>"
      ],
      "text/plain": [
       "                                           Model  Make_Year  \\\n",
       "Index                                                         \n",
       "0                                 Maruti Wagon R       2017   \n",
       "1                Hyundai Verna CRDi . AT SX Plus       2017   \n",
       "2                       Audi A  TDI Premium Plus       2018   \n",
       "3                       Honda City i VTEC CVT VX       2016   \n",
       "4      Mercedes-Benz E-Class Exclusive E  d BSIV       2019   \n",
       "...                                          ...        ...   \n",
       "6155        Ford EcoSport . Diesel Titanium BSIV       2019   \n",
       "6156                     Maruti Wagon R VXI Plus       2017   \n",
       "6157                         Toyota Yaris G BSIV       2018   \n",
       "6158                        Hyundai Verna . VTVT       2012   \n",
       "6159                 Maruti Zen Estilo LXI BSIII       2011   \n",
       "\n",
       "       Driven_Kilometers    Fuel Transmission  Owner(s)  Mileage    Engine  \\\n",
       "Index                                                                        \n",
       "0             202.913775  Petrol    Automatic         1    20.51  1.379966   \n",
       "1             264.575131  Diesel    Automatic         1    22.00  1.394900   \n",
       "2             121.107390  Diesel    Automatic         1    18.25  1.401707   \n",
       "3             234.520788  Petrol    Automatic         1    18.00  1.393151   \n",
       "4             174.602405  Diesel    Automatic         1    16.10  1.401423   \n",
       "...                  ...     ...          ...       ...      ...       ...   \n",
       "6155          173.205081  Diesel       Manual         1    23.00  1.393173   \n",
       "6156          200.000000  Petrol       Manual         1    20.51  1.379966   \n",
       "6157          153.762804  Petrol       Manual         1    17.10  1.393130   \n",
       "6158          262.678511  Petrol       Manual         1    17.43  1.390924   \n",
       "6159          258.843582  Petrol       Manual         1    18.20  1.379966   \n",
       "\n",
       "         Price   Location  \n",
       "Index                      \n",
       "0       430000  Ahmedabad  \n",
       "1       894999  Ahmedabad  \n",
       "2      3200000  Ahmedabad  \n",
       "3       877999  Ahmedabad  \n",
       "4      4800000  Ahmedabad  \n",
       "...        ...        ...  \n",
       "6155    990000       Pune  \n",
       "6156    450000       Pune  \n",
       "6157   1000000       Pune  \n",
       "6158    465000       Pune  \n",
       "6159    225000       Pune  \n",
       "\n",
       "[6160 rows x 10 columns]"
      ]
     },
     "execution_count": 41,
     "metadata": {},
     "output_type": "execute_result"
    }
   ],
   "source": [
    "data_new['Index'] = range(6160)\n",
    "\n",
    "\n",
    "data_new.set_index('Index',inplace=True) #assigning the index\n",
    "data_new"
   ]
  },
  {
   "cell_type": "code",
   "execution_count": 42,
   "metadata": {},
   "outputs": [],
   "source": [
    "Used_Cars = pd.concat([data_new, df1], axis=1)"
   ]
  },
  {
   "cell_type": "code",
   "execution_count": 43,
   "metadata": {},
   "outputs": [
    {
     "data": {
      "text/html": [
       "<div>\n",
       "<style scoped>\n",
       "    .dataframe tbody tr th:only-of-type {\n",
       "        vertical-align: middle;\n",
       "    }\n",
       "\n",
       "    .dataframe tbody tr th {\n",
       "        vertical-align: top;\n",
       "    }\n",
       "\n",
       "    .dataframe thead th {\n",
       "        text-align: right;\n",
       "    }\n",
       "</style>\n",
       "<table border=\"1\" class=\"dataframe\">\n",
       "  <thead>\n",
       "    <tr style=\"text-align: right;\">\n",
       "      <th></th>\n",
       "      <th>Model</th>\n",
       "      <th>Make_Year</th>\n",
       "      <th>Driven_Kilometers</th>\n",
       "      <th>Fuel</th>\n",
       "      <th>Transmission</th>\n",
       "      <th>Owner(s)</th>\n",
       "      <th>Mileage</th>\n",
       "      <th>Engine</th>\n",
       "      <th>Price</th>\n",
       "      <th>Location</th>\n",
       "      <th>Brand</th>\n",
       "    </tr>\n",
       "    <tr>\n",
       "      <th>Index</th>\n",
       "      <th></th>\n",
       "      <th></th>\n",
       "      <th></th>\n",
       "      <th></th>\n",
       "      <th></th>\n",
       "      <th></th>\n",
       "      <th></th>\n",
       "      <th></th>\n",
       "      <th></th>\n",
       "      <th></th>\n",
       "      <th></th>\n",
       "    </tr>\n",
       "  </thead>\n",
       "  <tbody>\n",
       "    <tr>\n",
       "      <th>0</th>\n",
       "      <td>Maruti Wagon R</td>\n",
       "      <td>2017</td>\n",
       "      <td>202.913775</td>\n",
       "      <td>Petrol</td>\n",
       "      <td>Automatic</td>\n",
       "      <td>1</td>\n",
       "      <td>20.51</td>\n",
       "      <td>1.379966</td>\n",
       "      <td>430000</td>\n",
       "      <td>Ahmedabad</td>\n",
       "      <td>Maruti</td>\n",
       "    </tr>\n",
       "    <tr>\n",
       "      <th>1</th>\n",
       "      <td>Hyundai Verna CRDi . AT SX Plus</td>\n",
       "      <td>2017</td>\n",
       "      <td>264.575131</td>\n",
       "      <td>Diesel</td>\n",
       "      <td>Automatic</td>\n",
       "      <td>1</td>\n",
       "      <td>22.00</td>\n",
       "      <td>1.394900</td>\n",
       "      <td>894999</td>\n",
       "      <td>Ahmedabad</td>\n",
       "      <td>Hyundai</td>\n",
       "    </tr>\n",
       "    <tr>\n",
       "      <th>2</th>\n",
       "      <td>Audi A  TDI Premium Plus</td>\n",
       "      <td>2018</td>\n",
       "      <td>121.107390</td>\n",
       "      <td>Diesel</td>\n",
       "      <td>Automatic</td>\n",
       "      <td>1</td>\n",
       "      <td>18.25</td>\n",
       "      <td>1.401707</td>\n",
       "      <td>3200000</td>\n",
       "      <td>Ahmedabad</td>\n",
       "      <td>Audi</td>\n",
       "    </tr>\n",
       "    <tr>\n",
       "      <th>3</th>\n",
       "      <td>Honda City i VTEC CVT VX</td>\n",
       "      <td>2016</td>\n",
       "      <td>234.520788</td>\n",
       "      <td>Petrol</td>\n",
       "      <td>Automatic</td>\n",
       "      <td>1</td>\n",
       "      <td>18.00</td>\n",
       "      <td>1.393151</td>\n",
       "      <td>877999</td>\n",
       "      <td>Ahmedabad</td>\n",
       "      <td>Honda</td>\n",
       "    </tr>\n",
       "    <tr>\n",
       "      <th>4</th>\n",
       "      <td>Mercedes-Benz E-Class Exclusive E  d BSIV</td>\n",
       "      <td>2019</td>\n",
       "      <td>174.602405</td>\n",
       "      <td>Diesel</td>\n",
       "      <td>Automatic</td>\n",
       "      <td>1</td>\n",
       "      <td>16.10</td>\n",
       "      <td>1.401423</td>\n",
       "      <td>4800000</td>\n",
       "      <td>Ahmedabad</td>\n",
       "      <td>Mercedes-Benz</td>\n",
       "    </tr>\n",
       "    <tr>\n",
       "      <th>...</th>\n",
       "      <td>...</td>\n",
       "      <td>...</td>\n",
       "      <td>...</td>\n",
       "      <td>...</td>\n",
       "      <td>...</td>\n",
       "      <td>...</td>\n",
       "      <td>...</td>\n",
       "      <td>...</td>\n",
       "      <td>...</td>\n",
       "      <td>...</td>\n",
       "      <td>...</td>\n",
       "    </tr>\n",
       "    <tr>\n",
       "      <th>6155</th>\n",
       "      <td>Ford EcoSport . Diesel Titanium BSIV</td>\n",
       "      <td>2019</td>\n",
       "      <td>173.205081</td>\n",
       "      <td>Diesel</td>\n",
       "      <td>Manual</td>\n",
       "      <td>1</td>\n",
       "      <td>23.00</td>\n",
       "      <td>1.393173</td>\n",
       "      <td>990000</td>\n",
       "      <td>Pune</td>\n",
       "      <td>Ford</td>\n",
       "    </tr>\n",
       "    <tr>\n",
       "      <th>6156</th>\n",
       "      <td>Maruti Wagon R VXI Plus</td>\n",
       "      <td>2017</td>\n",
       "      <td>200.000000</td>\n",
       "      <td>Petrol</td>\n",
       "      <td>Manual</td>\n",
       "      <td>1</td>\n",
       "      <td>20.51</td>\n",
       "      <td>1.379966</td>\n",
       "      <td>450000</td>\n",
       "      <td>Pune</td>\n",
       "      <td>Maruti</td>\n",
       "    </tr>\n",
       "    <tr>\n",
       "      <th>6157</th>\n",
       "      <td>Toyota Yaris G BSIV</td>\n",
       "      <td>2018</td>\n",
       "      <td>153.762804</td>\n",
       "      <td>Petrol</td>\n",
       "      <td>Manual</td>\n",
       "      <td>1</td>\n",
       "      <td>17.10</td>\n",
       "      <td>1.393130</td>\n",
       "      <td>1000000</td>\n",
       "      <td>Pune</td>\n",
       "      <td>Toyota</td>\n",
       "    </tr>\n",
       "    <tr>\n",
       "      <th>6158</th>\n",
       "      <td>Hyundai Verna . VTVT</td>\n",
       "      <td>2012</td>\n",
       "      <td>262.678511</td>\n",
       "      <td>Petrol</td>\n",
       "      <td>Manual</td>\n",
       "      <td>1</td>\n",
       "      <td>17.43</td>\n",
       "      <td>1.390924</td>\n",
       "      <td>465000</td>\n",
       "      <td>Pune</td>\n",
       "      <td>Hyundai</td>\n",
       "    </tr>\n",
       "    <tr>\n",
       "      <th>6159</th>\n",
       "      <td>Maruti Zen Estilo LXI BSIII</td>\n",
       "      <td>2011</td>\n",
       "      <td>258.843582</td>\n",
       "      <td>Petrol</td>\n",
       "      <td>Manual</td>\n",
       "      <td>1</td>\n",
       "      <td>18.20</td>\n",
       "      <td>1.379966</td>\n",
       "      <td>225000</td>\n",
       "      <td>Pune</td>\n",
       "      <td>Maruti</td>\n",
       "    </tr>\n",
       "  </tbody>\n",
       "</table>\n",
       "<p>6160 rows × 11 columns</p>\n",
       "</div>"
      ],
      "text/plain": [
       "                                           Model  Make_Year  \\\n",
       "Index                                                         \n",
       "0                                 Maruti Wagon R       2017   \n",
       "1                Hyundai Verna CRDi . AT SX Plus       2017   \n",
       "2                       Audi A  TDI Premium Plus       2018   \n",
       "3                       Honda City i VTEC CVT VX       2016   \n",
       "4      Mercedes-Benz E-Class Exclusive E  d BSIV       2019   \n",
       "...                                          ...        ...   \n",
       "6155        Ford EcoSport . Diesel Titanium BSIV       2019   \n",
       "6156                     Maruti Wagon R VXI Plus       2017   \n",
       "6157                         Toyota Yaris G BSIV       2018   \n",
       "6158                        Hyundai Verna . VTVT       2012   \n",
       "6159                 Maruti Zen Estilo LXI BSIII       2011   \n",
       "\n",
       "       Driven_Kilometers    Fuel Transmission  Owner(s)  Mileage    Engine  \\\n",
       "Index                                                                        \n",
       "0             202.913775  Petrol    Automatic         1    20.51  1.379966   \n",
       "1             264.575131  Diesel    Automatic         1    22.00  1.394900   \n",
       "2             121.107390  Diesel    Automatic         1    18.25  1.401707   \n",
       "3             234.520788  Petrol    Automatic         1    18.00  1.393151   \n",
       "4             174.602405  Diesel    Automatic         1    16.10  1.401423   \n",
       "...                  ...     ...          ...       ...      ...       ...   \n",
       "6155          173.205081  Diesel       Manual         1    23.00  1.393173   \n",
       "6156          200.000000  Petrol       Manual         1    20.51  1.379966   \n",
       "6157          153.762804  Petrol       Manual         1    17.10  1.393130   \n",
       "6158          262.678511  Petrol       Manual         1    17.43  1.390924   \n",
       "6159          258.843582  Petrol       Manual         1    18.20  1.379966   \n",
       "\n",
       "         Price   Location          Brand  \n",
       "Index                                     \n",
       "0       430000  Ahmedabad         Maruti  \n",
       "1       894999  Ahmedabad        Hyundai  \n",
       "2      3200000  Ahmedabad           Audi  \n",
       "3       877999  Ahmedabad          Honda  \n",
       "4      4800000  Ahmedabad  Mercedes-Benz  \n",
       "...        ...        ...            ...  \n",
       "6155    990000       Pune           Ford  \n",
       "6156    450000       Pune         Maruti  \n",
       "6157   1000000       Pune         Toyota  \n",
       "6158    465000       Pune        Hyundai  \n",
       "6159    225000       Pune         Maruti  \n",
       "\n",
       "[6160 rows x 11 columns]"
      ]
     },
     "execution_count": 43,
     "metadata": {},
     "output_type": "execute_result"
    }
   ],
   "source": [
    "Used_Cars"
   ]
  },
  {
   "cell_type": "code",
   "execution_count": 44,
   "metadata": {},
   "outputs": [],
   "source": [
    "Used_Cars.reset_index('Index',inplace=True) #reset the index"
   ]
  },
  {
   "cell_type": "code",
   "execution_count": 45,
   "metadata": {},
   "outputs": [],
   "source": [
    "Used_Cars = Used_Cars.drop('Index',axis=1) #remove the extra columns\n",
    "Used_Cars = Used_Cars.drop('Model',axis=1)"
   ]
  },
  {
   "cell_type": "code",
   "execution_count": 46,
   "metadata": {},
   "outputs": [
    {
     "data": {
      "text/html": [
       "<div>\n",
       "<style scoped>\n",
       "    .dataframe tbody tr th:only-of-type {\n",
       "        vertical-align: middle;\n",
       "    }\n",
       "\n",
       "    .dataframe tbody tr th {\n",
       "        vertical-align: top;\n",
       "    }\n",
       "\n",
       "    .dataframe thead th {\n",
       "        text-align: right;\n",
       "    }\n",
       "</style>\n",
       "<table border=\"1\" class=\"dataframe\">\n",
       "  <thead>\n",
       "    <tr style=\"text-align: right;\">\n",
       "      <th></th>\n",
       "      <th>Make_Year</th>\n",
       "      <th>Driven_Kilometers</th>\n",
       "      <th>Fuel</th>\n",
       "      <th>Transmission</th>\n",
       "      <th>Owner(s)</th>\n",
       "      <th>Mileage</th>\n",
       "      <th>Engine</th>\n",
       "      <th>Price</th>\n",
       "      <th>Location</th>\n",
       "      <th>Brand</th>\n",
       "    </tr>\n",
       "  </thead>\n",
       "  <tbody>\n",
       "    <tr>\n",
       "      <th>0</th>\n",
       "      <td>2017</td>\n",
       "      <td>202.913775</td>\n",
       "      <td>Petrol</td>\n",
       "      <td>Automatic</td>\n",
       "      <td>1</td>\n",
       "      <td>20.51</td>\n",
       "      <td>1.379966</td>\n",
       "      <td>430000</td>\n",
       "      <td>Ahmedabad</td>\n",
       "      <td>Maruti</td>\n",
       "    </tr>\n",
       "    <tr>\n",
       "      <th>1</th>\n",
       "      <td>2017</td>\n",
       "      <td>264.575131</td>\n",
       "      <td>Diesel</td>\n",
       "      <td>Automatic</td>\n",
       "      <td>1</td>\n",
       "      <td>22.00</td>\n",
       "      <td>1.394900</td>\n",
       "      <td>894999</td>\n",
       "      <td>Ahmedabad</td>\n",
       "      <td>Hyundai</td>\n",
       "    </tr>\n",
       "    <tr>\n",
       "      <th>2</th>\n",
       "      <td>2018</td>\n",
       "      <td>121.107390</td>\n",
       "      <td>Diesel</td>\n",
       "      <td>Automatic</td>\n",
       "      <td>1</td>\n",
       "      <td>18.25</td>\n",
       "      <td>1.401707</td>\n",
       "      <td>3200000</td>\n",
       "      <td>Ahmedabad</td>\n",
       "      <td>Audi</td>\n",
       "    </tr>\n",
       "    <tr>\n",
       "      <th>3</th>\n",
       "      <td>2016</td>\n",
       "      <td>234.520788</td>\n",
       "      <td>Petrol</td>\n",
       "      <td>Automatic</td>\n",
       "      <td>1</td>\n",
       "      <td>18.00</td>\n",
       "      <td>1.393151</td>\n",
       "      <td>877999</td>\n",
       "      <td>Ahmedabad</td>\n",
       "      <td>Honda</td>\n",
       "    </tr>\n",
       "    <tr>\n",
       "      <th>4</th>\n",
       "      <td>2019</td>\n",
       "      <td>174.602405</td>\n",
       "      <td>Diesel</td>\n",
       "      <td>Automatic</td>\n",
       "      <td>1</td>\n",
       "      <td>16.10</td>\n",
       "      <td>1.401423</td>\n",
       "      <td>4800000</td>\n",
       "      <td>Ahmedabad</td>\n",
       "      <td>Mercedes-Benz</td>\n",
       "    </tr>\n",
       "    <tr>\n",
       "      <th>...</th>\n",
       "      <td>...</td>\n",
       "      <td>...</td>\n",
       "      <td>...</td>\n",
       "      <td>...</td>\n",
       "      <td>...</td>\n",
       "      <td>...</td>\n",
       "      <td>...</td>\n",
       "      <td>...</td>\n",
       "      <td>...</td>\n",
       "      <td>...</td>\n",
       "    </tr>\n",
       "    <tr>\n",
       "      <th>6155</th>\n",
       "      <td>2019</td>\n",
       "      <td>173.205081</td>\n",
       "      <td>Diesel</td>\n",
       "      <td>Manual</td>\n",
       "      <td>1</td>\n",
       "      <td>23.00</td>\n",
       "      <td>1.393173</td>\n",
       "      <td>990000</td>\n",
       "      <td>Pune</td>\n",
       "      <td>Ford</td>\n",
       "    </tr>\n",
       "    <tr>\n",
       "      <th>6156</th>\n",
       "      <td>2017</td>\n",
       "      <td>200.000000</td>\n",
       "      <td>Petrol</td>\n",
       "      <td>Manual</td>\n",
       "      <td>1</td>\n",
       "      <td>20.51</td>\n",
       "      <td>1.379966</td>\n",
       "      <td>450000</td>\n",
       "      <td>Pune</td>\n",
       "      <td>Maruti</td>\n",
       "    </tr>\n",
       "    <tr>\n",
       "      <th>6157</th>\n",
       "      <td>2018</td>\n",
       "      <td>153.762804</td>\n",
       "      <td>Petrol</td>\n",
       "      <td>Manual</td>\n",
       "      <td>1</td>\n",
       "      <td>17.10</td>\n",
       "      <td>1.393130</td>\n",
       "      <td>1000000</td>\n",
       "      <td>Pune</td>\n",
       "      <td>Toyota</td>\n",
       "    </tr>\n",
       "    <tr>\n",
       "      <th>6158</th>\n",
       "      <td>2012</td>\n",
       "      <td>262.678511</td>\n",
       "      <td>Petrol</td>\n",
       "      <td>Manual</td>\n",
       "      <td>1</td>\n",
       "      <td>17.43</td>\n",
       "      <td>1.390924</td>\n",
       "      <td>465000</td>\n",
       "      <td>Pune</td>\n",
       "      <td>Hyundai</td>\n",
       "    </tr>\n",
       "    <tr>\n",
       "      <th>6159</th>\n",
       "      <td>2011</td>\n",
       "      <td>258.843582</td>\n",
       "      <td>Petrol</td>\n",
       "      <td>Manual</td>\n",
       "      <td>1</td>\n",
       "      <td>18.20</td>\n",
       "      <td>1.379966</td>\n",
       "      <td>225000</td>\n",
       "      <td>Pune</td>\n",
       "      <td>Maruti</td>\n",
       "    </tr>\n",
       "  </tbody>\n",
       "</table>\n",
       "<p>6160 rows × 10 columns</p>\n",
       "</div>"
      ],
      "text/plain": [
       "      Make_Year  Driven_Kilometers    Fuel Transmission  Owner(s)  Mileage  \\\n",
       "0          2017         202.913775  Petrol    Automatic         1    20.51   \n",
       "1          2017         264.575131  Diesel    Automatic         1    22.00   \n",
       "2          2018         121.107390  Diesel    Automatic         1    18.25   \n",
       "3          2016         234.520788  Petrol    Automatic         1    18.00   \n",
       "4          2019         174.602405  Diesel    Automatic         1    16.10   \n",
       "...         ...                ...     ...          ...       ...      ...   \n",
       "6155       2019         173.205081  Diesel       Manual         1    23.00   \n",
       "6156       2017         200.000000  Petrol       Manual         1    20.51   \n",
       "6157       2018         153.762804  Petrol       Manual         1    17.10   \n",
       "6158       2012         262.678511  Petrol       Manual         1    17.43   \n",
       "6159       2011         258.843582  Petrol       Manual         1    18.20   \n",
       "\n",
       "        Engine    Price   Location          Brand  \n",
       "0     1.379966   430000  Ahmedabad         Maruti  \n",
       "1     1.394900   894999  Ahmedabad        Hyundai  \n",
       "2     1.401707  3200000  Ahmedabad           Audi  \n",
       "3     1.393151   877999  Ahmedabad          Honda  \n",
       "4     1.401423  4800000  Ahmedabad  Mercedes-Benz  \n",
       "...        ...      ...        ...            ...  \n",
       "6155  1.393173   990000       Pune           Ford  \n",
       "6156  1.379966   450000       Pune         Maruti  \n",
       "6157  1.393130  1000000       Pune         Toyota  \n",
       "6158  1.390924   465000       Pune        Hyundai  \n",
       "6159  1.379966   225000       Pune         Maruti  \n",
       "\n",
       "[6160 rows x 10 columns]"
      ]
     },
     "execution_count": 46,
     "metadata": {},
     "output_type": "execute_result"
    }
   ],
   "source": [
    "Used_Cars"
   ]
  },
  {
   "cell_type": "code",
   "execution_count": 47,
   "metadata": {},
   "outputs": [
    {
     "data": {
      "text/plain": [
       "array(['Maruti', 'Hyundai', 'Audi', 'Honda', 'Mercedes-Benz', 'Kia',\n",
       "       'Skoda', 'Toyota', 'Ford', 'Nissan', 'Jaguar', 'BMW', 'Mini',\n",
       "       'Volvo', 'Mahindra', 'Volkswagen', 'Renault', 'Land', 'Tata', 'MG',\n",
       "       'Porsche', 'Mitsubishi', 'Chevrolet', 'New', 'Jeep', 'Datsun',\n",
       "       'Force', 'Fiat', 'OpelCorsa'], dtype=object)"
      ]
     },
     "execution_count": 47,
     "metadata": {},
     "output_type": "execute_result"
    }
   ],
   "source": [
    "Used_Cars['Brand'].unique()"
   ]
  },
  {
   "cell_type": "code",
   "execution_count": 48,
   "metadata": {},
   "outputs": [
    {
     "data": {
      "text/plain": [
       "Maruti           2136\n",
       "Hyundai          1311\n",
       "Honda             568\n",
       "Ford              307\n",
       "Toyota            289\n",
       "Volkswagen        280\n",
       "Mahindra          250\n",
       "Renault           205\n",
       "Mercedes-Benz     123\n",
       "Tata              102\n",
       "BMW               101\n",
       "Skoda              99\n",
       "Audi               91\n",
       "Chevrolet          67\n",
       "Nissan             64\n",
       "Kia                28\n",
       "Jaguar             20\n",
       "Land               20\n",
       "Datsun             20\n",
       "Jeep               16\n",
       "MG                 13\n",
       "Fiat               12\n",
       "Mitsubishi         11\n",
       "Volvo              11\n",
       "Porsche             6\n",
       "Mini                6\n",
       "New                 2\n",
       "OpelCorsa           1\n",
       "Force               1\n",
       "Name: Brand, dtype: int64"
      ]
     },
     "execution_count": 48,
     "metadata": {},
     "output_type": "execute_result"
    }
   ],
   "source": [
    "Used_Cars['Brand'].value_counts()"
   ]
  },
  {
   "cell_type": "code",
   "execution_count": 49,
   "metadata": {},
   "outputs": [
    {
     "data": {
      "text/plain": [
       "array(['Petrol', 'Diesel', 'CNG', 'LPG'], dtype=object)"
      ]
     },
     "execution_count": 49,
     "metadata": {},
     "output_type": "execute_result"
    }
   ],
   "source": [
    "Used_Cars['Fuel'].unique()"
   ]
  },
  {
   "cell_type": "markdown",
   "metadata": {},
   "source": [
    "## Encoding the Categorical data"
   ]
  },
  {
   "cell_type": "code",
   "execution_count": 50,
   "metadata": {},
   "outputs": [
    {
     "data": {
      "text/html": [
       "<div>\n",
       "<style scoped>\n",
       "    .dataframe tbody tr th:only-of-type {\n",
       "        vertical-align: middle;\n",
       "    }\n",
       "\n",
       "    .dataframe tbody tr th {\n",
       "        vertical-align: top;\n",
       "    }\n",
       "\n",
       "    .dataframe thead th {\n",
       "        text-align: right;\n",
       "    }\n",
       "</style>\n",
       "<table border=\"1\" class=\"dataframe\">\n",
       "  <thead>\n",
       "    <tr style=\"text-align: right;\">\n",
       "      <th></th>\n",
       "      <th>Make_Year</th>\n",
       "      <th>Driven_Kilometers</th>\n",
       "      <th>Fuel</th>\n",
       "      <th>Transmission</th>\n",
       "      <th>Owner(s)</th>\n",
       "      <th>Mileage</th>\n",
       "      <th>Engine</th>\n",
       "      <th>Price</th>\n",
       "      <th>Location</th>\n",
       "      <th>Brand</th>\n",
       "    </tr>\n",
       "  </thead>\n",
       "  <tbody>\n",
       "    <tr>\n",
       "      <th>0</th>\n",
       "      <td>15</td>\n",
       "      <td>202.913775</td>\n",
       "      <td>3</td>\n",
       "      <td>0</td>\n",
       "      <td>1</td>\n",
       "      <td>20.51</td>\n",
       "      <td>1.379966</td>\n",
       "      <td>430000</td>\n",
       "      <td>Ahmedabad</td>\n",
       "      <td>Maruti</td>\n",
       "    </tr>\n",
       "    <tr>\n",
       "      <th>1</th>\n",
       "      <td>15</td>\n",
       "      <td>264.575131</td>\n",
       "      <td>1</td>\n",
       "      <td>0</td>\n",
       "      <td>1</td>\n",
       "      <td>22.00</td>\n",
       "      <td>1.394900</td>\n",
       "      <td>894999</td>\n",
       "      <td>Ahmedabad</td>\n",
       "      <td>Hyundai</td>\n",
       "    </tr>\n",
       "    <tr>\n",
       "      <th>2</th>\n",
       "      <td>16</td>\n",
       "      <td>121.107390</td>\n",
       "      <td>1</td>\n",
       "      <td>0</td>\n",
       "      <td>1</td>\n",
       "      <td>18.25</td>\n",
       "      <td>1.401707</td>\n",
       "      <td>3200000</td>\n",
       "      <td>Ahmedabad</td>\n",
       "      <td>Audi</td>\n",
       "    </tr>\n",
       "    <tr>\n",
       "      <th>3</th>\n",
       "      <td>14</td>\n",
       "      <td>234.520788</td>\n",
       "      <td>3</td>\n",
       "      <td>0</td>\n",
       "      <td>1</td>\n",
       "      <td>18.00</td>\n",
       "      <td>1.393151</td>\n",
       "      <td>877999</td>\n",
       "      <td>Ahmedabad</td>\n",
       "      <td>Honda</td>\n",
       "    </tr>\n",
       "    <tr>\n",
       "      <th>4</th>\n",
       "      <td>17</td>\n",
       "      <td>174.602405</td>\n",
       "      <td>1</td>\n",
       "      <td>0</td>\n",
       "      <td>1</td>\n",
       "      <td>16.10</td>\n",
       "      <td>1.401423</td>\n",
       "      <td>4800000</td>\n",
       "      <td>Ahmedabad</td>\n",
       "      <td>Mercedes-Benz</td>\n",
       "    </tr>\n",
       "  </tbody>\n",
       "</table>\n",
       "</div>"
      ],
      "text/plain": [
       "   Make_Year  Driven_Kilometers  Fuel  Transmission  Owner(s)  Mileage  \\\n",
       "0         15         202.913775     3             0         1    20.51   \n",
       "1         15         264.575131     1             0         1    22.00   \n",
       "2         16         121.107390     1             0         1    18.25   \n",
       "3         14         234.520788     3             0         1    18.00   \n",
       "4         17         174.602405     1             0         1    16.10   \n",
       "\n",
       "     Engine    Price   Location          Brand  \n",
       "0  1.379966   430000  Ahmedabad         Maruti  \n",
       "1  1.394900   894999  Ahmedabad        Hyundai  \n",
       "2  1.401707  3200000  Ahmedabad           Audi  \n",
       "3  1.393151   877999  Ahmedabad          Honda  \n",
       "4  1.401423  4800000  Ahmedabad  Mercedes-Benz  "
      ]
     },
     "execution_count": 50,
     "metadata": {},
     "output_type": "execute_result"
    }
   ],
   "source": [
    "#Let's use Label encoder for encoding some of the columns\n",
    "\n",
    "l1 = ['Transmission','Fuel','Make_Year'] \n",
    "\n",
    "#Let's use Label Encoder method\n",
    "\n",
    "from sklearn.preprocessing import LabelEncoder  #importing library\n",
    "\n",
    "le = LabelEncoder()  #calling function\n",
    "\n",
    "for i in l1:\n",
    "    Used_Cars[i]= le.fit_transform(Used_Cars[i].values.reshape(-1,1))\n",
    "Used_Cars.head()"
   ]
  },
  {
   "cell_type": "code",
   "execution_count": 51,
   "metadata": {},
   "outputs": [],
   "source": [
    "#Get dummies\n",
    "l2=pd.get_dummies(Used_Cars['Brand'])\n",
    "\n",
    "#Concat with main dataframe by dropping workclass dataframe\n",
    "Used_Cars=pd.concat([Used_Cars.drop('Brand',axis=1),l2],axis=1)"
   ]
  },
  {
   "cell_type": "code",
   "execution_count": 52,
   "metadata": {},
   "outputs": [],
   "source": [
    "#Get dummies\n",
    "l3=pd.get_dummies(Used_Cars['Location'])\n",
    "\n",
    "#Concat with main dataframe by dropping workclass dataframe\n",
    "Used_Cars=pd.concat([Used_Cars.drop('Location',axis=1),l3],axis=1)"
   ]
  },
  {
   "cell_type": "code",
   "execution_count": 53,
   "metadata": {},
   "outputs": [
    {
     "data": {
      "text/html": [
       "<div>\n",
       "<style scoped>\n",
       "    .dataframe tbody tr th:only-of-type {\n",
       "        vertical-align: middle;\n",
       "    }\n",
       "\n",
       "    .dataframe tbody tr th {\n",
       "        vertical-align: top;\n",
       "    }\n",
       "\n",
       "    .dataframe thead th {\n",
       "        text-align: right;\n",
       "    }\n",
       "</style>\n",
       "<table border=\"1\" class=\"dataframe\">\n",
       "  <thead>\n",
       "    <tr style=\"text-align: right;\">\n",
       "      <th></th>\n",
       "      <th>Make_Year</th>\n",
       "      <th>Driven_Kilometers</th>\n",
       "      <th>Fuel</th>\n",
       "      <th>Transmission</th>\n",
       "      <th>Owner(s)</th>\n",
       "      <th>Mileage</th>\n",
       "      <th>Engine</th>\n",
       "      <th>Price</th>\n",
       "      <th>Audi</th>\n",
       "      <th>BMW</th>\n",
       "      <th>...</th>\n",
       "      <th>Chennai</th>\n",
       "      <th>Gurgaon</th>\n",
       "      <th>Hyderabad</th>\n",
       "      <th>Jaipur</th>\n",
       "      <th>Kolkata</th>\n",
       "      <th>Mumbai</th>\n",
       "      <th>NCR</th>\n",
       "      <th>New Delhi</th>\n",
       "      <th>Noida</th>\n",
       "      <th>Pune</th>\n",
       "    </tr>\n",
       "  </thead>\n",
       "  <tbody>\n",
       "    <tr>\n",
       "      <th>0</th>\n",
       "      <td>15</td>\n",
       "      <td>202.913775</td>\n",
       "      <td>3</td>\n",
       "      <td>0</td>\n",
       "      <td>1</td>\n",
       "      <td>20.51</td>\n",
       "      <td>1.379966</td>\n",
       "      <td>430000</td>\n",
       "      <td>0</td>\n",
       "      <td>0</td>\n",
       "      <td>...</td>\n",
       "      <td>0</td>\n",
       "      <td>0</td>\n",
       "      <td>0</td>\n",
       "      <td>0</td>\n",
       "      <td>0</td>\n",
       "      <td>0</td>\n",
       "      <td>0</td>\n",
       "      <td>0</td>\n",
       "      <td>0</td>\n",
       "      <td>0</td>\n",
       "    </tr>\n",
       "    <tr>\n",
       "      <th>1</th>\n",
       "      <td>15</td>\n",
       "      <td>264.575131</td>\n",
       "      <td>1</td>\n",
       "      <td>0</td>\n",
       "      <td>1</td>\n",
       "      <td>22.00</td>\n",
       "      <td>1.394900</td>\n",
       "      <td>894999</td>\n",
       "      <td>0</td>\n",
       "      <td>0</td>\n",
       "      <td>...</td>\n",
       "      <td>0</td>\n",
       "      <td>0</td>\n",
       "      <td>0</td>\n",
       "      <td>0</td>\n",
       "      <td>0</td>\n",
       "      <td>0</td>\n",
       "      <td>0</td>\n",
       "      <td>0</td>\n",
       "      <td>0</td>\n",
       "      <td>0</td>\n",
       "    </tr>\n",
       "    <tr>\n",
       "      <th>2</th>\n",
       "      <td>16</td>\n",
       "      <td>121.107390</td>\n",
       "      <td>1</td>\n",
       "      <td>0</td>\n",
       "      <td>1</td>\n",
       "      <td>18.25</td>\n",
       "      <td>1.401707</td>\n",
       "      <td>3200000</td>\n",
       "      <td>1</td>\n",
       "      <td>0</td>\n",
       "      <td>...</td>\n",
       "      <td>0</td>\n",
       "      <td>0</td>\n",
       "      <td>0</td>\n",
       "      <td>0</td>\n",
       "      <td>0</td>\n",
       "      <td>0</td>\n",
       "      <td>0</td>\n",
       "      <td>0</td>\n",
       "      <td>0</td>\n",
       "      <td>0</td>\n",
       "    </tr>\n",
       "    <tr>\n",
       "      <th>3</th>\n",
       "      <td>14</td>\n",
       "      <td>234.520788</td>\n",
       "      <td>3</td>\n",
       "      <td>0</td>\n",
       "      <td>1</td>\n",
       "      <td>18.00</td>\n",
       "      <td>1.393151</td>\n",
       "      <td>877999</td>\n",
       "      <td>0</td>\n",
       "      <td>0</td>\n",
       "      <td>...</td>\n",
       "      <td>0</td>\n",
       "      <td>0</td>\n",
       "      <td>0</td>\n",
       "      <td>0</td>\n",
       "      <td>0</td>\n",
       "      <td>0</td>\n",
       "      <td>0</td>\n",
       "      <td>0</td>\n",
       "      <td>0</td>\n",
       "      <td>0</td>\n",
       "    </tr>\n",
       "    <tr>\n",
       "      <th>4</th>\n",
       "      <td>17</td>\n",
       "      <td>174.602405</td>\n",
       "      <td>1</td>\n",
       "      <td>0</td>\n",
       "      <td>1</td>\n",
       "      <td>16.10</td>\n",
       "      <td>1.401423</td>\n",
       "      <td>4800000</td>\n",
       "      <td>0</td>\n",
       "      <td>0</td>\n",
       "      <td>...</td>\n",
       "      <td>0</td>\n",
       "      <td>0</td>\n",
       "      <td>0</td>\n",
       "      <td>0</td>\n",
       "      <td>0</td>\n",
       "      <td>0</td>\n",
       "      <td>0</td>\n",
       "      <td>0</td>\n",
       "      <td>0</td>\n",
       "      <td>0</td>\n",
       "    </tr>\n",
       "    <tr>\n",
       "      <th>...</th>\n",
       "      <td>...</td>\n",
       "      <td>...</td>\n",
       "      <td>...</td>\n",
       "      <td>...</td>\n",
       "      <td>...</td>\n",
       "      <td>...</td>\n",
       "      <td>...</td>\n",
       "      <td>...</td>\n",
       "      <td>...</td>\n",
       "      <td>...</td>\n",
       "      <td>...</td>\n",
       "      <td>...</td>\n",
       "      <td>...</td>\n",
       "      <td>...</td>\n",
       "      <td>...</td>\n",
       "      <td>...</td>\n",
       "      <td>...</td>\n",
       "      <td>...</td>\n",
       "      <td>...</td>\n",
       "      <td>...</td>\n",
       "      <td>...</td>\n",
       "    </tr>\n",
       "    <tr>\n",
       "      <th>6155</th>\n",
       "      <td>17</td>\n",
       "      <td>173.205081</td>\n",
       "      <td>1</td>\n",
       "      <td>1</td>\n",
       "      <td>1</td>\n",
       "      <td>23.00</td>\n",
       "      <td>1.393173</td>\n",
       "      <td>990000</td>\n",
       "      <td>0</td>\n",
       "      <td>0</td>\n",
       "      <td>...</td>\n",
       "      <td>0</td>\n",
       "      <td>0</td>\n",
       "      <td>0</td>\n",
       "      <td>0</td>\n",
       "      <td>0</td>\n",
       "      <td>0</td>\n",
       "      <td>0</td>\n",
       "      <td>0</td>\n",
       "      <td>0</td>\n",
       "      <td>1</td>\n",
       "    </tr>\n",
       "    <tr>\n",
       "      <th>6156</th>\n",
       "      <td>15</td>\n",
       "      <td>200.000000</td>\n",
       "      <td>3</td>\n",
       "      <td>1</td>\n",
       "      <td>1</td>\n",
       "      <td>20.51</td>\n",
       "      <td>1.379966</td>\n",
       "      <td>450000</td>\n",
       "      <td>0</td>\n",
       "      <td>0</td>\n",
       "      <td>...</td>\n",
       "      <td>0</td>\n",
       "      <td>0</td>\n",
       "      <td>0</td>\n",
       "      <td>0</td>\n",
       "      <td>0</td>\n",
       "      <td>0</td>\n",
       "      <td>0</td>\n",
       "      <td>0</td>\n",
       "      <td>0</td>\n",
       "      <td>1</td>\n",
       "    </tr>\n",
       "    <tr>\n",
       "      <th>6157</th>\n",
       "      <td>16</td>\n",
       "      <td>153.762804</td>\n",
       "      <td>3</td>\n",
       "      <td>1</td>\n",
       "      <td>1</td>\n",
       "      <td>17.10</td>\n",
       "      <td>1.393130</td>\n",
       "      <td>1000000</td>\n",
       "      <td>0</td>\n",
       "      <td>0</td>\n",
       "      <td>...</td>\n",
       "      <td>0</td>\n",
       "      <td>0</td>\n",
       "      <td>0</td>\n",
       "      <td>0</td>\n",
       "      <td>0</td>\n",
       "      <td>0</td>\n",
       "      <td>0</td>\n",
       "      <td>0</td>\n",
       "      <td>0</td>\n",
       "      <td>1</td>\n",
       "    </tr>\n",
       "    <tr>\n",
       "      <th>6158</th>\n",
       "      <td>10</td>\n",
       "      <td>262.678511</td>\n",
       "      <td>3</td>\n",
       "      <td>1</td>\n",
       "      <td>1</td>\n",
       "      <td>17.43</td>\n",
       "      <td>1.390924</td>\n",
       "      <td>465000</td>\n",
       "      <td>0</td>\n",
       "      <td>0</td>\n",
       "      <td>...</td>\n",
       "      <td>0</td>\n",
       "      <td>0</td>\n",
       "      <td>0</td>\n",
       "      <td>0</td>\n",
       "      <td>0</td>\n",
       "      <td>0</td>\n",
       "      <td>0</td>\n",
       "      <td>0</td>\n",
       "      <td>0</td>\n",
       "      <td>1</td>\n",
       "    </tr>\n",
       "    <tr>\n",
       "      <th>6159</th>\n",
       "      <td>9</td>\n",
       "      <td>258.843582</td>\n",
       "      <td>3</td>\n",
       "      <td>1</td>\n",
       "      <td>1</td>\n",
       "      <td>18.20</td>\n",
       "      <td>1.379966</td>\n",
       "      <td>225000</td>\n",
       "      <td>0</td>\n",
       "      <td>0</td>\n",
       "      <td>...</td>\n",
       "      <td>0</td>\n",
       "      <td>0</td>\n",
       "      <td>0</td>\n",
       "      <td>0</td>\n",
       "      <td>0</td>\n",
       "      <td>0</td>\n",
       "      <td>0</td>\n",
       "      <td>0</td>\n",
       "      <td>0</td>\n",
       "      <td>1</td>\n",
       "    </tr>\n",
       "  </tbody>\n",
       "</table>\n",
       "<p>6160 rows × 49 columns</p>\n",
       "</div>"
      ],
      "text/plain": [
       "      Make_Year  Driven_Kilometers  Fuel  Transmission  Owner(s)  Mileage  \\\n",
       "0            15         202.913775     3             0         1    20.51   \n",
       "1            15         264.575131     1             0         1    22.00   \n",
       "2            16         121.107390     1             0         1    18.25   \n",
       "3            14         234.520788     3             0         1    18.00   \n",
       "4            17         174.602405     1             0         1    16.10   \n",
       "...         ...                ...   ...           ...       ...      ...   \n",
       "6155         17         173.205081     1             1         1    23.00   \n",
       "6156         15         200.000000     3             1         1    20.51   \n",
       "6157         16         153.762804     3             1         1    17.10   \n",
       "6158         10         262.678511     3             1         1    17.43   \n",
       "6159          9         258.843582     3             1         1    18.20   \n",
       "\n",
       "        Engine    Price  Audi  BMW  ...  Chennai  Gurgaon  Hyderabad  Jaipur  \\\n",
       "0     1.379966   430000     0    0  ...        0        0          0       0   \n",
       "1     1.394900   894999     0    0  ...        0        0          0       0   \n",
       "2     1.401707  3200000     1    0  ...        0        0          0       0   \n",
       "3     1.393151   877999     0    0  ...        0        0          0       0   \n",
       "4     1.401423  4800000     0    0  ...        0        0          0       0   \n",
       "...        ...      ...   ...  ...  ...      ...      ...        ...     ...   \n",
       "6155  1.393173   990000     0    0  ...        0        0          0       0   \n",
       "6156  1.379966   450000     0    0  ...        0        0          0       0   \n",
       "6157  1.393130  1000000     0    0  ...        0        0          0       0   \n",
       "6158  1.390924   465000     0    0  ...        0        0          0       0   \n",
       "6159  1.379966   225000     0    0  ...        0        0          0       0   \n",
       "\n",
       "      Kolkata  Mumbai  NCR  New Delhi  Noida  Pune  \n",
       "0           0       0    0          0      0     0  \n",
       "1           0       0    0          0      0     0  \n",
       "2           0       0    0          0      0     0  \n",
       "3           0       0    0          0      0     0  \n",
       "4           0       0    0          0      0     0  \n",
       "...       ...     ...  ...        ...    ...   ...  \n",
       "6155        0       0    0          0      0     1  \n",
       "6156        0       0    0          0      0     1  \n",
       "6157        0       0    0          0      0     1  \n",
       "6158        0       0    0          0      0     1  \n",
       "6159        0       0    0          0      0     1  \n",
       "\n",
       "[6160 rows x 49 columns]"
      ]
     },
     "execution_count": 53,
     "metadata": {},
     "output_type": "execute_result"
    }
   ],
   "source": [
    "Used_Cars"
   ]
  },
  {
   "cell_type": "markdown",
   "metadata": {},
   "source": [
    "## Splitting features and labels"
   ]
  },
  {
   "cell_type": "code",
   "execution_count": 54,
   "metadata": {},
   "outputs": [],
   "source": [
    "X = Used_Cars.drop(columns = 'Price') #Features\n",
    "Y = Used_Cars['Price'] #Label"
   ]
  },
  {
   "cell_type": "code",
   "execution_count": 55,
   "metadata": {},
   "outputs": [
    {
     "name": "stdout",
     "output_type": "stream",
     "text": [
      "Features dimension:\t (6160, 48) \n",
      "Label Dimension:\t (6160,)\n"
     ]
    }
   ],
   "source": [
    "#let's check for our dimensions after splitting the data\n",
    "\n",
    "print('Features dimension:\\t',X.shape,'\\nLabel Dimension:\\t',Y.shape)"
   ]
  },
  {
   "cell_type": "markdown",
   "metadata": {},
   "source": [
    "### Scaling the data\n",
    "\n",
    "Using the StandardScaler"
   ]
  },
  {
   "cell_type": "code",
   "execution_count": 56,
   "metadata": {},
   "outputs": [],
   "source": [
    "from sklearn.preprocessing import StandardScaler\n",
    "Scaler = StandardScaler()\n",
    "\n",
    "X_scaled = Scaler.fit_transform(X)"
   ]
  },
  {
   "cell_type": "markdown",
   "metadata": {},
   "source": [
    "### Finding the Best Random State"
   ]
  },
  {
   "cell_type": "code",
   "execution_count": 57,
   "metadata": {},
   "outputs": [
    {
     "name": "stdout",
     "output_type": "stream",
     "text": [
      "The best accuracy is  0.7853375324293194  with Random State  148\n"
     ]
    }
   ],
   "source": [
    "from sklearn.linear_model import LinearRegression\n",
    "\n",
    "maxR2_Score = 0\n",
    "maxRS = 0\n",
    "\n",
    "for i in range(200):\n",
    "    x_train,x_test,y_train,y_test = train_test_split(X_scaled,Y,test_size = 0.20,random_state = i)\n",
    "    LR = LinearRegression()\n",
    "    LR.fit(x_train,y_train)\n",
    "    predrf = LR.predict(x_test)\n",
    "    Score = r2_score(y_test,predrf)\n",
    "    if Score>maxR2_Score:\n",
    "        maxR2_Score = Score\n",
    "        maxRS = i\n",
    "        \n",
    "print('The best accuracy is ',maxR2_Score, ' with Random State ',maxRS)"
   ]
  },
  {
   "cell_type": "markdown",
   "metadata": {},
   "source": [
    "## Splitting Training and Testing data"
   ]
  },
  {
   "cell_type": "code",
   "execution_count": 58,
   "metadata": {},
   "outputs": [],
   "source": [
    "#Let's split our dataset for training and testing purpose\n",
    "\n",
    "x_train,x_test,y_train,y_test = train_test_split(X_scaled, Y, test_size =0.20, random_state = maxRS)"
   ]
  },
  {
   "cell_type": "markdown",
   "metadata": {},
   "source": [
    "## Model Building"
   ]
  },
  {
   "cell_type": "code",
   "execution_count": 59,
   "metadata": {},
   "outputs": [],
   "source": [
    "#Importing all required Libraries that will be used for building a model\n",
    "\n",
    "from sklearn.metrics import mean_squared_error,mean_absolute_error,r2_score\n",
    "from sklearn.ensemble import RandomForestRegressor\n",
    "from sklearn.neighbors import KNeighborsRegressor\n",
    "from sklearn.ensemble import GradientBoostingRegressor\n",
    "from sklearn.linear_model import Lasso,Ridge\n",
    "from sklearn.model_selection import cross_val_score\n",
    "from sklearn.model_selection import KFold\n",
    "from sklearn.tree import DecisionTreeRegressor"
   ]
  },
  {
   "cell_type": "code",
   "execution_count": 60,
   "metadata": {},
   "outputs": [
    {
     "name": "stdout",
     "output_type": "stream",
     "text": [
      "RandomForestRegressor()\n",
      "R Squared (R2):  90.69569699408366\n",
      "Mean Squared Error (MSE):  52001673173.875305\n",
      "Root Mean Squared Error (RMSE):  228038.75366672943\n",
      "Mean Absolute Error (MAE):  83505.24579827936\n"
     ]
    },
    {
     "data": {
      "image/png": "[encoded data removed]",
      "text/plain": [
       "<Figure size 1080x432 with 1 Axes>"
      ]
     },
     "metadata": {},
     "output_type": "display_data"
    },
    {
     "name": "stdout",
     "output_type": "stream",
     "text": [
      "------------------------------------------------------------------------------------------------------------------------\n",
      "KNeighborsRegressor()\n",
      "R Squared (R2):  77.65874769809187\n",
      "Mean Squared Error (MSE):  124865075842.8838\n",
      "Root Mean Squared Error (RMSE):  353362.52750239917\n",
      "Mean Absolute Error (MAE):  152638.39074675326\n"
     ]
    },
    {
     "data": {
      "image/png": "[encoded data removed]",
      "text/plain": [
       "<Figure size 1080x432 with 1 Axes>"
      ]
     },
     "metadata": {},
     "output_type": "display_data"
    },
    {
     "name": "stdout",
     "output_type": "stream",
     "text": [
      "------------------------------------------------------------------------------------------------------------------------\n",
      "GradientBoostingRegressor()\n",
      "R Squared (R2):  90.6723222140643\n",
      "Mean Squared Error (MSE):  52132314627.65268\n",
      "Root Mean Squared Error (RMSE):  228325.01971455663\n",
      "Mean Absolute Error (MAE):  114880.60161425754\n"
     ]
    },
    {
     "data": {
      "image/png": "[encoded data removed]",
      "text/plain": [
       "<Figure size 1080x432 with 1 Axes>"
      ]
     },
     "metadata": {},
     "output_type": "display_data"
    },
    {
     "name": "stdout",
     "output_type": "stream",
     "text": [
      "------------------------------------------------------------------------------------------------------------------------\n",
      "DecisionTreeRegressor(max_features='auto')\n",
      "R Squared (R2):  83.61691045446736\n",
      "Mean Squared Error (MSE):  91564953074.22728\n",
      "Root Mean Squared Error (RMSE):  302597.01431809814\n",
      "Mean Absolute Error (MAE):  100660.83603896105\n"
     ]
    },
    {
     "data": {
      "image/png": "[encoded data removed]",
      "text/plain": [
       "<Figure size 1080x432 with 1 Axes>"
      ]
     },
     "metadata": {},
     "output_type": "display_data"
    },
    {
     "name": "stdout",
     "output_type": "stream",
     "text": [
      "------------------------------------------------------------------------------------------------------------------------\n",
      "Lasso()\n",
      "R Squared (R2):  78.53383251107547\n",
      "Mean Squared Error (MSE):  119974234001.72075\n",
      "Root Mean Squared Error (RMSE):  346372.96950212604\n",
      "Mean Absolute Error (MAE):  183979.7163302098\n"
     ]
    },
    {
     "data": {
      "image/png": "[encoded data removed]",
      "text/plain": [
       "<Figure size 1080x432 with 1 Axes>"
      ]
     },
     "metadata": {},
     "output_type": "display_data"
    },
    {
     "name": "stdout",
     "output_type": "stream",
     "text": [
      "------------------------------------------------------------------------------------------------------------------------\n",
      "Ridge()\n",
      "R Squared (R2):  78.53290464518217\n",
      "Mean Squared Error (MSE):  119979419836.5868\n",
      "Root Mean Squared Error (RMSE):  346380.4553328418\n",
      "Mean Absolute Error (MAE):  183970.2796976279\n"
     ]
    },
    {
     "data": {
      "image/png": "[encoded data removed]",
      "text/plain": [
       "<Figure size 1080x432 with 1 Axes>"
      ]
     },
     "metadata": {},
     "output_type": "display_data"
    },
    {
     "name": "stdout",
     "output_type": "stream",
     "text": [
      "------------------------------------------------------------------------------------------------------------------------\n"
     ]
    }
   ],
   "source": [
    "rf=RandomForestRegressor()\n",
    "kn=KNeighborsRegressor()\n",
    "gb=GradientBoostingRegressor()\n",
    "dt = DecisionTreeRegressor(max_features='auto')\n",
    "ls=Lasso()\n",
    "rd=Ridge()\n",
    "\n",
    "model=[rf,kn,gb,dt,ls,rd]\n",
    "kf = KFold(n_splits=5, random_state=43, shuffle=True)\n",
    "\n",
    "train=[]\n",
    "test=[]\n",
    "cv=[]\n",
    "\n",
    "for m in model:\n",
    "    m = m.fit(x_train,y_train)\n",
    "    pred_train=m.predict(x_train)\n",
    "    pred_test=m.predict(x_test)\n",
    "    train_score=r2_score(y_train,pred_train)\n",
    "    train.append(train_score*100)\n",
    "    test_score=r2_score(y_test,pred_test)\n",
    "    test.append(test_score*100)\n",
    "    print(m)\n",
    "    print('R Squared (R2): ',test_score*100)\n",
    "    print('Mean Squared Error (MSE): ',mean_squared_error(y_test,pred_test))\n",
    "    print('Root Mean Squared Error (RMSE): ',np.sqrt(mean_squared_error(y_test, pred_test)))\n",
    "    print('Mean Absolute Error (MAE): ',mean_absolute_error(y_test,pred_test))\n",
    "    score=cross_val_score(m,X_scaled,Y,cv=kf)\n",
    "    cv.append(score.mean()*100)\n",
    "    plt.figure(figsize=[15,6])\n",
    "    sns.scatterplot(x=pred_test, y=y_test)\n",
    "    plt.xlabel('Predicted Values')\n",
    "    plt.ylabel('Actual Values')\n",
    "    plt.title('Predicted vs. Actual Values')\n",
    "    plt.show()\n",
    "    print('-'*120)\n",
    "    \n",
    "    \n",
    "    \n",
    "    \n",
    "Overall_score={'Model':['RandomForest','KNN','GradientBoosting','DecisionTree Regressor','Lasso','Ridge'],\n",
    "             'Training Score':train,\n",
    "            'Test Score':test,\n",
    "            'Cross Validation Score': cv}\n",
    "Overall_score=pd.DataFrame(data=Overall_score)"
   ]
  },
  {
   "cell_type": "markdown",
   "metadata": {},
   "source": [
    "Let's check for our Overall scores of our models:"
   ]
  },
  {
   "cell_type": "code",
   "execution_count": 61,
   "metadata": {},
   "outputs": [
    {
     "data": {
      "text/html": [
       "<div>\n",
       "<style scoped>\n",
       "    .dataframe tbody tr th:only-of-type {\n",
       "        vertical-align: middle;\n",
       "    }\n",
       "\n",
       "    .dataframe tbody tr th {\n",
       "        vertical-align: top;\n",
       "    }\n",
       "\n",
       "    .dataframe thead th {\n",
       "        text-align: right;\n",
       "    }\n",
       "</style>\n",
       "<table border=\"1\" class=\"dataframe\">\n",
       "  <thead>\n",
       "    <tr style=\"text-align: right;\">\n",
       "      <th></th>\n",
       "      <th>Model</th>\n",
       "      <th>Training Score</th>\n",
       "      <th>Test Score</th>\n",
       "      <th>Cross Validation Score</th>\n",
       "    </tr>\n",
       "  </thead>\n",
       "  <tbody>\n",
       "    <tr>\n",
       "      <th>0</th>\n",
       "      <td>RandomForest</td>\n",
       "      <td>98.782190</td>\n",
       "      <td>90.695697</td>\n",
       "      <td>89.486181</td>\n",
       "    </tr>\n",
       "    <tr>\n",
       "      <th>1</th>\n",
       "      <td>KNN</td>\n",
       "      <td>83.482520</td>\n",
       "      <td>77.658748</td>\n",
       "      <td>74.881360</td>\n",
       "    </tr>\n",
       "    <tr>\n",
       "      <th>2</th>\n",
       "      <td>GradientBoosting</td>\n",
       "      <td>93.402613</td>\n",
       "      <td>90.672322</td>\n",
       "      <td>88.089063</td>\n",
       "    </tr>\n",
       "    <tr>\n",
       "      <th>3</th>\n",
       "      <td>DecisionTree Regressor</td>\n",
       "      <td>99.998558</td>\n",
       "      <td>83.616910</td>\n",
       "      <td>80.785377</td>\n",
       "    </tr>\n",
       "    <tr>\n",
       "      <th>4</th>\n",
       "      <td>Lasso</td>\n",
       "      <td>73.920469</td>\n",
       "      <td>78.533833</td>\n",
       "      <td>73.348394</td>\n",
       "    </tr>\n",
       "    <tr>\n",
       "      <th>5</th>\n",
       "      <td>Ridge</td>\n",
       "      <td>73.920467</td>\n",
       "      <td>78.532905</td>\n",
       "      <td>73.348618</td>\n",
       "    </tr>\n",
       "  </tbody>\n",
       "</table>\n",
       "</div>"
      ],
      "text/plain": [
       "                    Model  Training Score  Test Score  Cross Validation Score\n",
       "0            RandomForest       98.782190   90.695697               89.486181\n",
       "1                     KNN       83.482520   77.658748               74.881360\n",
       "2        GradientBoosting       93.402613   90.672322               88.089063\n",
       "3  DecisionTree Regressor       99.998558   83.616910               80.785377\n",
       "4                   Lasso       73.920469   78.533833               73.348394\n",
       "5                   Ridge       73.920467   78.532905               73.348618"
      ]
     },
     "execution_count": 61,
     "metadata": {},
     "output_type": "execute_result"
    }
   ],
   "source": [
    "Overall_score"
   ]
  },
  {
   "cell_type": "code",
   "execution_count": 62,
   "metadata": {},
   "outputs": [
    {
     "data": {
      "text/html": [
       "<div>\n",
       "<style scoped>\n",
       "    .dataframe tbody tr th:only-of-type {\n",
       "        vertical-align: middle;\n",
       "    }\n",
       "\n",
       "    .dataframe tbody tr th {\n",
       "        vertical-align: top;\n",
       "    }\n",
       "\n",
       "    .dataframe thead th {\n",
       "        text-align: right;\n",
       "    }\n",
       "</style>\n",
       "<table border=\"1\" class=\"dataframe\">\n",
       "  <thead>\n",
       "    <tr style=\"text-align: right;\">\n",
       "      <th></th>\n",
       "      <th>Model</th>\n",
       "      <th>Training Score</th>\n",
       "      <th>Test Score</th>\n",
       "      <th>Cross Validation Score</th>\n",
       "      <th>Difference</th>\n",
       "    </tr>\n",
       "  </thead>\n",
       "  <tbody>\n",
       "    <tr>\n",
       "      <th>0</th>\n",
       "      <td>RandomForest</td>\n",
       "      <td>98.782190</td>\n",
       "      <td>90.695697</td>\n",
       "      <td>89.486181</td>\n",
       "      <td>1.209516</td>\n",
       "    </tr>\n",
       "    <tr>\n",
       "      <th>1</th>\n",
       "      <td>KNN</td>\n",
       "      <td>83.482520</td>\n",
       "      <td>77.658748</td>\n",
       "      <td>74.881360</td>\n",
       "      <td>2.777388</td>\n",
       "    </tr>\n",
       "    <tr>\n",
       "      <th>2</th>\n",
       "      <td>GradientBoosting</td>\n",
       "      <td>93.402613</td>\n",
       "      <td>90.672322</td>\n",
       "      <td>88.089063</td>\n",
       "      <td>2.583259</td>\n",
       "    </tr>\n",
       "    <tr>\n",
       "      <th>3</th>\n",
       "      <td>DecisionTree Regressor</td>\n",
       "      <td>99.998558</td>\n",
       "      <td>83.616910</td>\n",
       "      <td>80.785377</td>\n",
       "      <td>2.831533</td>\n",
       "    </tr>\n",
       "    <tr>\n",
       "      <th>4</th>\n",
       "      <td>Lasso</td>\n",
       "      <td>73.920469</td>\n",
       "      <td>78.533833</td>\n",
       "      <td>73.348394</td>\n",
       "      <td>5.185438</td>\n",
       "    </tr>\n",
       "    <tr>\n",
       "      <th>5</th>\n",
       "      <td>Ridge</td>\n",
       "      <td>73.920467</td>\n",
       "      <td>78.532905</td>\n",
       "      <td>73.348618</td>\n",
       "      <td>5.184286</td>\n",
       "    </tr>\n",
       "  </tbody>\n",
       "</table>\n",
       "</div>"
      ],
      "text/plain": [
       "                    Model  Training Score  Test Score  Cross Validation Score  \\\n",
       "0            RandomForest       98.782190   90.695697               89.486181   \n",
       "1                     KNN       83.482520   77.658748               74.881360   \n",
       "2        GradientBoosting       93.402613   90.672322               88.089063   \n",
       "3  DecisionTree Regressor       99.998558   83.616910               80.785377   \n",
       "4                   Lasso       73.920469   78.533833               73.348394   \n",
       "5                   Ridge       73.920467   78.532905               73.348618   \n",
       "\n",
       "   Difference  \n",
       "0    1.209516  \n",
       "1    2.777388  \n",
       "2    2.583259  \n",
       "3    2.831533  \n",
       "4    5.185438  \n",
       "5    5.184286  "
      ]
     },
     "execution_count": 62,
     "metadata": {},
     "output_type": "execute_result"
    }
   ],
   "source": [
    "#Let's get a new column, that shows the difference between Prediction Test R2 Score and Cross Validation Score\n",
    "\n",
    "Overall_score['Difference'] = Overall_score['Test Score'] - Overall_score['Cross Validation Score']\n",
    "Overall_score #display the table"
   ]
  },
  {
   "cell_type": "code",
   "execution_count": 63,
   "metadata": {},
   "outputs": [
    {
     "data": {
      "image/png": "[encoded data removed]",
      "text/plain": [
       "<Figure size 1080x1080 with 2 Axes>"
      ]
     },
     "metadata": {},
     "output_type": "display_data"
    }
   ],
   "source": [
    "plt.figure(figsize=(15,15))\n",
    "\n",
    "plt.subplot(3,2,1)\n",
    "sns.barplot(x = 'Test Score', y = 'Model', data = Overall_score)\n",
    "\n",
    "plt.subplot(3,2,2)\n",
    "sns.barplot(x = 'Cross Validation Score', y = 'Model', data = Overall_score)\n",
    "plt.tight_layout()\n",
    "plt.show()"
   ]
  },
  {
   "cell_type": "markdown",
   "metadata": {},
   "source": [
    "\"Random Forest Regressor\" model comes up with \"high R2_score\" and with least difference between the R2 Score and          the Cross validation score"
   ]
  },
  {
   "cell_type": "markdown",
   "metadata": {},
   "source": [
    "\"Random Forest Regressor\" is our best model for \"Used Car Price Prediction\" with the accuracy score of 90.7%\n",
    "\n",
    "Let's Hyper tune our model to increase the accuracy score\n",
    "\n",
    "## Hypertuning the model"
   ]
  },
  {
   "cell_type": "code",
   "execution_count": 67,
   "metadata": {},
   "outputs": [
    {
     "data": {
      "text/plain": [
       "GridSearchCV(cv=5, estimator=RandomForestRegressor(),\n",
       "             param_grid={'criterion': ['squared_error', 'mse'],\n",
       "                         'max_depth': [4, 5, None],\n",
       "                         'max_features': ['auto', 'sqrt'],\n",
       "                         'min_samples_leaf': [1, 2, 3],\n",
       "                         'min_samples_split': [2, 5, 10],\n",
       "                         'n_estimators': [50, 100]})"
      ]
     },
     "execution_count": 67,
     "metadata": {},
     "output_type": "execute_result"
    }
   ],
   "source": [
    "from sklearn.model_selection import GridSearchCV\n",
    "\n",
    "#parameters\n",
    "param_grid = {'n_estimators':[50,100],\n",
    "             'max_features':['auto','sqrt'],\n",
    "             'max_depth':[4,5,None],'min_samples_split' : [2, 5, 10],\n",
    "             'criterion':['squared_error','mse'],'min_samples_leaf': [1, 2, 3]}   \n",
    "\n",
    "gridsearch=GridSearchCV(estimator = rf, param_grid = param_grid,cv=5)     \n",
    "\n",
    "gridsearch.fit(x_train,y_train) #training the model"
   ]
  },
  {
   "cell_type": "code",
   "execution_count": 68,
   "metadata": {},
   "outputs": [
    {
     "name": "stdout",
     "output_type": "stream",
     "text": [
      "0.8995300428869937 {'criterion': 'squared_error', 'max_depth': None, 'max_features': 'auto', 'min_samples_leaf': 1, 'min_samples_split': 5, 'n_estimators': 50}\n"
     ]
    }
   ],
   "source": [
    "print(gridsearch.best_score_, gridsearch.best_params_)"
   ]
  },
  {
   "cell_type": "code",
   "execution_count": 79,
   "metadata": {},
   "outputs": [],
   "source": [
    "Rand_Final = RandomForestRegressor(n_estimators=50,max_features='auto',max_depth=None,criterion='squared_error',\n",
    "                                   min_samples_split=5,min_samples_leaf=1)\n",
    "\n",
    "Rand_Final.fit(x_train,y_train)  #training the model\n",
    "predictions = Rand_Final.predict(x_test)  #predicting"
   ]
  },
  {
   "cell_type": "markdown",
   "metadata": {},
   "source": [
    "## Performance Metrics of the model"
   ]
  },
  {
   "cell_type": "markdown",
   "metadata": {},
   "source": [
    "Let's check the model performance"
   ]
  },
  {
   "cell_type": "code",
   "execution_count": 71,
   "metadata": {},
   "outputs": [
    {
     "name": "stdout",
     "output_type": "stream",
     "text": [
      "R Squared (R2):  0.9083716057748248\n",
      "Mean Squared Error (MSE):  51211034366.73062\n",
      "Root Mean Squared Error (RMSE):  226298.55140219218\n",
      "Mean Absolute Error (MAE):  85272.03475800232\n"
     ]
    }
   ],
   "source": [
    "print('R Squared (R2): ',r2_score(y_test,predictions))\n",
    "print('Mean Squared Error (MSE): ',mean_squared_error(y_test,predictions))\n",
    "print('Root Mean Squared Error (RMSE): ',np.sqrt(mean_squared_error(y_test, predictions)))\n",
    "print('Mean Absolute Error (MAE): ',mean_absolute_error(y_test,predictions))"
   ]
  },
  {
   "cell_type": "code",
   "execution_count": 73,
   "metadata": {},
   "outputs": [
    {
     "data": {
      "image/png": "[encoded data removed]",
      "text/plain": [
       "<Figure size 576x396 with 1 Axes>"
      ]
     },
     "metadata": {},
     "output_type": "display_data"
    }
   ],
   "source": [
    "#Let's again plot the difference between the y_test price and our model predicted price\n",
    "\n",
    "sns.distplot(y_test-predictions)\n",
    "plt.show()"
   ]
  },
  {
   "cell_type": "markdown",
   "metadata": {},
   "source": []
  },
  {
   "cell_type": "markdown",
   "metadata": {},
   "source": [
    "We could now see there is a slight change and now we have most data with zero difference"
   ]
  },
  {
   "cell_type": "code",
   "execution_count": 74,
   "metadata": {},
   "outputs": [
    {
     "data": {
      "image/png": "[encoded data removed]",
      "text/plain": [
       "<Figure size 1080x432 with 1 Axes>"
      ]
     },
     "metadata": {},
     "output_type": "display_data"
    }
   ],
   "source": [
    "#plot predicted vs. actual values\n",
    "\n",
    "plt.figure(figsize=[15,6])\n",
    "sns.scatterplot(x=predictions, y=y_test)\n",
    "plt.xlabel('Predicted Values')\n",
    "plt.ylabel('Actual Values')\n",
    "plt.title('Predicted vs. Actual Values')\n",
    "plt.show()"
   ]
  },
  {
   "cell_type": "code",
   "execution_count": 75,
   "metadata": {},
   "outputs": [
    {
     "data": {
      "image/png": "[encoded data removed]",
      "text/plain": [
       "<Figure size 1008x432 with 1 Axes>"
      ]
     },
     "metadata": {},
     "output_type": "display_data"
    }
   ],
   "source": [
    "# plot LOO predictions against actual\n",
    "plt.figure(figsize=[14,6])\n",
    "\n",
    "plot_LOO = sns.scatterplot(predictions,y_test)\n",
    "plot_LOO.set(xlabel='Predicted Values', ylabel='Actual Values')\n",
    "# generate and graph y = x line\n",
    "x_plot = np.linspace(10000,7000000)\n",
    "y_plot = x_plot\n",
    "\n",
    "plt.plot(x_plot, y_plot, color='r')\n",
    "plt.title(\"Actual v/s Predicted Values\")\n",
    "plt.show()"
   ]
  },
  {
   "cell_type": "markdown",
   "metadata": {},
   "source": [
    "The above graph indicates that most of the \"Actual and Predicted\" values are quite close to each other\n",
    "After hyper tuning , Our model score is now increased by 0.00133029998% of acuracy score\n",
    "Hence, our model is ready with 90.83 % of Acuracy Score"
   ]
  }
 ],
 "metadata": {
  "kernelspec": {
   "display_name": "Python 3",
   "language": "python",
   "name": "python3"
  },
  "language_info": {
   "codemirror_mode": {
    "name": "ipython",
    "version": 3
   },
   "file_extension": ".py",
   "mimetype": "text/x-python",
   "name": "python",
   "nbconvert_exporter": "python",
   "pygments_lexer": "ipython3",
   "version": "3.8.3"
  }
 },
 "nbformat": 4,
 "nbformat_minor": 4
}
